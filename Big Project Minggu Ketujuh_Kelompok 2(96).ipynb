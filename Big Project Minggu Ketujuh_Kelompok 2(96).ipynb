{
 "cells": [
  {
   "cell_type": "markdown",
   "id": "df694f10",
   "metadata": {},
   "source": [
    "## Import Library"
   ]
  },
  {
   "cell_type": "code",
   "execution_count": 62,
   "id": "b3874e2e",
   "metadata": {},
   "outputs": [],
   "source": [
    "import numpy as np\n",
    "import pandas as pd\n",
    "\n",
    "# Library untuk visualisasi data\n",
    "import matplotlib.pyplot as plt\n",
    "import seaborn as sns\n",
    "%matplotlib inline\n",
    "\n",
    "from sklearn.model_selection import train_test_split\n",
    "from sklearn.preprocessing import MinMaxScaler, StandardScaler, LabelEncoder, OneHotEncoder\n",
    "\n",
    "#for model\n",
    "from sklearn.linear_model import LogisticRegression\n",
    "from sklearn.tree import DecisionTreeClassifier\n",
    "from sklearn.svm import SVC\n",
    "\n",
    "# ANN model # Artificial Neural Network\n",
    "\n",
    "#for checking testing results\n",
    "from sklearn.metrics import accuracy_score, f1_score, recall_score, precision_score, classification_report, confusion_matrix"
   ]
  },
  {
   "cell_type": "markdown",
   "id": "51b90b19",
   "metadata": {},
   "source": [
    "# Import Data"
   ]
  },
  {
   "cell_type": "code",
   "execution_count": 63,
   "id": "060e4105",
   "metadata": {},
   "outputs": [
    {
     "data": {
      "text/html": [
       "<div>\n",
       "<style scoped>\n",
       "    .dataframe tbody tr th:only-of-type {\n",
       "        vertical-align: middle;\n",
       "    }\n",
       "\n",
       "    .dataframe tbody tr th {\n",
       "        vertical-align: top;\n",
       "    }\n",
       "\n",
       "    .dataframe thead th {\n",
       "        text-align: right;\n",
       "    }\n",
       "</style>\n",
       "<table border=\"1\" class=\"dataframe\">\n",
       "  <thead>\n",
       "    <tr style=\"text-align: right;\">\n",
       "      <th></th>\n",
       "      <th>Age</th>\n",
       "      <th>Gender</th>\n",
       "      <th>Height</th>\n",
       "      <th>Weight</th>\n",
       "      <th>CALC</th>\n",
       "      <th>FAVC</th>\n",
       "      <th>FCVC</th>\n",
       "      <th>NCP</th>\n",
       "      <th>SCC</th>\n",
       "      <th>SMOKE</th>\n",
       "      <th>CH2O</th>\n",
       "      <th>family_history_with_overweight</th>\n",
       "      <th>FAF</th>\n",
       "      <th>TUE</th>\n",
       "      <th>CAEC</th>\n",
       "      <th>MTRANS</th>\n",
       "      <th>NObeyesdad</th>\n",
       "    </tr>\n",
       "  </thead>\n",
       "  <tbody>\n",
       "    <tr>\n",
       "      <th>0</th>\n",
       "      <td>21.0</td>\n",
       "      <td>Female</td>\n",
       "      <td>1.62</td>\n",
       "      <td>64.0</td>\n",
       "      <td>no</td>\n",
       "      <td>no</td>\n",
       "      <td>2.0</td>\n",
       "      <td>3.0</td>\n",
       "      <td>no</td>\n",
       "      <td>no</td>\n",
       "      <td>2.0</td>\n",
       "      <td>yes</td>\n",
       "      <td>0.0</td>\n",
       "      <td>1.0</td>\n",
       "      <td>Sometimes</td>\n",
       "      <td>Public_Transportation</td>\n",
       "      <td>Normal_Weight</td>\n",
       "    </tr>\n",
       "    <tr>\n",
       "      <th>1</th>\n",
       "      <td>21.0</td>\n",
       "      <td>Female</td>\n",
       "      <td>1.52</td>\n",
       "      <td>56.0</td>\n",
       "      <td>Sometimes</td>\n",
       "      <td>no</td>\n",
       "      <td>3.0</td>\n",
       "      <td>3.0</td>\n",
       "      <td>yes</td>\n",
       "      <td>yes</td>\n",
       "      <td>3.0</td>\n",
       "      <td>yes</td>\n",
       "      <td>3.0</td>\n",
       "      <td>0.0</td>\n",
       "      <td>Sometimes</td>\n",
       "      <td>Public_Transportation</td>\n",
       "      <td>Normal_Weight</td>\n",
       "    </tr>\n",
       "    <tr>\n",
       "      <th>2</th>\n",
       "      <td>23.0</td>\n",
       "      <td>Male</td>\n",
       "      <td>1.80</td>\n",
       "      <td>77.0</td>\n",
       "      <td>Frequently</td>\n",
       "      <td>no</td>\n",
       "      <td>2.0</td>\n",
       "      <td>3.0</td>\n",
       "      <td>no</td>\n",
       "      <td>no</td>\n",
       "      <td>2.0</td>\n",
       "      <td>yes</td>\n",
       "      <td>2.0</td>\n",
       "      <td>1.0</td>\n",
       "      <td>Sometimes</td>\n",
       "      <td>Public_Transportation</td>\n",
       "      <td>Normal_Weight</td>\n",
       "    </tr>\n",
       "    <tr>\n",
       "      <th>3</th>\n",
       "      <td>27.0</td>\n",
       "      <td>Male</td>\n",
       "      <td>1.80</td>\n",
       "      <td>87.0</td>\n",
       "      <td>Frequently</td>\n",
       "      <td>no</td>\n",
       "      <td>3.0</td>\n",
       "      <td>3.0</td>\n",
       "      <td>no</td>\n",
       "      <td>no</td>\n",
       "      <td>2.0</td>\n",
       "      <td>no</td>\n",
       "      <td>2.0</td>\n",
       "      <td>0.0</td>\n",
       "      <td>Sometimes</td>\n",
       "      <td>Walking</td>\n",
       "      <td>Overweight_Level_I</td>\n",
       "    </tr>\n",
       "    <tr>\n",
       "      <th>4</th>\n",
       "      <td>22.0</td>\n",
       "      <td>Male</td>\n",
       "      <td>1.78</td>\n",
       "      <td>89.8</td>\n",
       "      <td>Sometimes</td>\n",
       "      <td>no</td>\n",
       "      <td>2.0</td>\n",
       "      <td>1.0</td>\n",
       "      <td>no</td>\n",
       "      <td>no</td>\n",
       "      <td>2.0</td>\n",
       "      <td>no</td>\n",
       "      <td>0.0</td>\n",
       "      <td>0.0</td>\n",
       "      <td>Sometimes</td>\n",
       "      <td>Public_Transportation</td>\n",
       "      <td>Overweight_Level_II</td>\n",
       "    </tr>\n",
       "  </tbody>\n",
       "</table>\n",
       "</div>"
      ],
      "text/plain": [
       "    Age  Gender  Height  Weight        CALC FAVC  FCVC  NCP  SCC SMOKE  CH2O  \\\n",
       "0  21.0  Female    1.62    64.0          no   no   2.0  3.0   no    no   2.0   \n",
       "1  21.0  Female    1.52    56.0   Sometimes   no   3.0  3.0  yes   yes   3.0   \n",
       "2  23.0    Male    1.80    77.0  Frequently   no   2.0  3.0   no    no   2.0   \n",
       "3  27.0    Male    1.80    87.0  Frequently   no   3.0  3.0   no    no   2.0   \n",
       "4  22.0    Male    1.78    89.8   Sometimes   no   2.0  1.0   no    no   2.0   \n",
       "\n",
       "  family_history_with_overweight  FAF  TUE       CAEC                 MTRANS  \\\n",
       "0                            yes  0.0  1.0  Sometimes  Public_Transportation   \n",
       "1                            yes  3.0  0.0  Sometimes  Public_Transportation   \n",
       "2                            yes  2.0  1.0  Sometimes  Public_Transportation   \n",
       "3                             no  2.0  0.0  Sometimes                Walking   \n",
       "4                             no  0.0  0.0  Sometimes  Public_Transportation   \n",
       "\n",
       "            NObeyesdad  \n",
       "0        Normal_Weight  \n",
       "1        Normal_Weight  \n",
       "2        Normal_Weight  \n",
       "3   Overweight_Level_I  \n",
       "4  Overweight_Level_II  "
      ]
     },
     "execution_count": 63,
     "metadata": {},
     "output_type": "execute_result"
    }
   ],
   "source": [
    "df = pd.read_csv('Big Project Progress Data_ Kelompok 2.csv')\n",
    "df.head()"
   ]
  },
  {
   "cell_type": "code",
   "execution_count": 64,
   "id": "0d46beef",
   "metadata": {},
   "outputs": [
    {
     "data": {
      "text/html": [
       "<div>\n",
       "<style scoped>\n",
       "    .dataframe tbody tr th:only-of-type {\n",
       "        vertical-align: middle;\n",
       "    }\n",
       "\n",
       "    .dataframe tbody tr th {\n",
       "        vertical-align: top;\n",
       "    }\n",
       "\n",
       "    .dataframe thead th {\n",
       "        text-align: right;\n",
       "    }\n",
       "</style>\n",
       "<table border=\"1\" class=\"dataframe\">\n",
       "  <thead>\n",
       "    <tr style=\"text-align: right;\">\n",
       "      <th></th>\n",
       "      <th>Age</th>\n",
       "      <th>Gender</th>\n",
       "      <th>Height</th>\n",
       "      <th>Weight</th>\n",
       "      <th>CALC</th>\n",
       "      <th>FAVC</th>\n",
       "      <th>FCVC</th>\n",
       "      <th>NCP</th>\n",
       "      <th>SCC</th>\n",
       "      <th>SMOKE</th>\n",
       "      <th>CH2O</th>\n",
       "      <th>family_history_with_overweight</th>\n",
       "      <th>FAF</th>\n",
       "      <th>TUE</th>\n",
       "      <th>CAEC</th>\n",
       "      <th>MTRANS</th>\n",
       "      <th>NObeyesdad</th>\n",
       "    </tr>\n",
       "  </thead>\n",
       "  <tbody>\n",
       "    <tr>\n",
       "      <th>0</th>\n",
       "      <td>21.000000</td>\n",
       "      <td>Female</td>\n",
       "      <td>1.620000</td>\n",
       "      <td>64.000000</td>\n",
       "      <td>no</td>\n",
       "      <td>no</td>\n",
       "      <td>2.0</td>\n",
       "      <td>3.0</td>\n",
       "      <td>no</td>\n",
       "      <td>no</td>\n",
       "      <td>2.000000</td>\n",
       "      <td>yes</td>\n",
       "      <td>0.000000</td>\n",
       "      <td>1.000000</td>\n",
       "      <td>Sometimes</td>\n",
       "      <td>Public_Transportation</td>\n",
       "      <td>Normal_Weight</td>\n",
       "    </tr>\n",
       "    <tr>\n",
       "      <th>1</th>\n",
       "      <td>21.000000</td>\n",
       "      <td>Female</td>\n",
       "      <td>1.520000</td>\n",
       "      <td>56.000000</td>\n",
       "      <td>Sometimes</td>\n",
       "      <td>no</td>\n",
       "      <td>3.0</td>\n",
       "      <td>3.0</td>\n",
       "      <td>yes</td>\n",
       "      <td>yes</td>\n",
       "      <td>3.000000</td>\n",
       "      <td>yes</td>\n",
       "      <td>3.000000</td>\n",
       "      <td>0.000000</td>\n",
       "      <td>Sometimes</td>\n",
       "      <td>Public_Transportation</td>\n",
       "      <td>Normal_Weight</td>\n",
       "    </tr>\n",
       "    <tr>\n",
       "      <th>2</th>\n",
       "      <td>23.000000</td>\n",
       "      <td>Male</td>\n",
       "      <td>1.800000</td>\n",
       "      <td>77.000000</td>\n",
       "      <td>Frequently</td>\n",
       "      <td>no</td>\n",
       "      <td>2.0</td>\n",
       "      <td>3.0</td>\n",
       "      <td>no</td>\n",
       "      <td>no</td>\n",
       "      <td>2.000000</td>\n",
       "      <td>yes</td>\n",
       "      <td>2.000000</td>\n",
       "      <td>1.000000</td>\n",
       "      <td>Sometimes</td>\n",
       "      <td>Public_Transportation</td>\n",
       "      <td>Normal_Weight</td>\n",
       "    </tr>\n",
       "    <tr>\n",
       "      <th>3</th>\n",
       "      <td>27.000000</td>\n",
       "      <td>Male</td>\n",
       "      <td>1.800000</td>\n",
       "      <td>87.000000</td>\n",
       "      <td>Frequently</td>\n",
       "      <td>no</td>\n",
       "      <td>3.0</td>\n",
       "      <td>3.0</td>\n",
       "      <td>no</td>\n",
       "      <td>no</td>\n",
       "      <td>2.000000</td>\n",
       "      <td>no</td>\n",
       "      <td>2.000000</td>\n",
       "      <td>0.000000</td>\n",
       "      <td>Sometimes</td>\n",
       "      <td>Walking</td>\n",
       "      <td>Overweight_Level_I</td>\n",
       "    </tr>\n",
       "    <tr>\n",
       "      <th>4</th>\n",
       "      <td>22.000000</td>\n",
       "      <td>Male</td>\n",
       "      <td>1.780000</td>\n",
       "      <td>89.800000</td>\n",
       "      <td>Sometimes</td>\n",
       "      <td>no</td>\n",
       "      <td>2.0</td>\n",
       "      <td>1.0</td>\n",
       "      <td>no</td>\n",
       "      <td>no</td>\n",
       "      <td>2.000000</td>\n",
       "      <td>no</td>\n",
       "      <td>0.000000</td>\n",
       "      <td>0.000000</td>\n",
       "      <td>Sometimes</td>\n",
       "      <td>Public_Transportation</td>\n",
       "      <td>Overweight_Level_II</td>\n",
       "    </tr>\n",
       "    <tr>\n",
       "      <th>...</th>\n",
       "      <td>...</td>\n",
       "      <td>...</td>\n",
       "      <td>...</td>\n",
       "      <td>...</td>\n",
       "      <td>...</td>\n",
       "      <td>...</td>\n",
       "      <td>...</td>\n",
       "      <td>...</td>\n",
       "      <td>...</td>\n",
       "      <td>...</td>\n",
       "      <td>...</td>\n",
       "      <td>...</td>\n",
       "      <td>...</td>\n",
       "      <td>...</td>\n",
       "      <td>...</td>\n",
       "      <td>...</td>\n",
       "      <td>...</td>\n",
       "    </tr>\n",
       "    <tr>\n",
       "      <th>2106</th>\n",
       "      <td>20.976842</td>\n",
       "      <td>Female</td>\n",
       "      <td>1.710730</td>\n",
       "      <td>131.408528</td>\n",
       "      <td>Sometimes</td>\n",
       "      <td>yes</td>\n",
       "      <td>3.0</td>\n",
       "      <td>3.0</td>\n",
       "      <td>no</td>\n",
       "      <td>no</td>\n",
       "      <td>1.728139</td>\n",
       "      <td>yes</td>\n",
       "      <td>1.676269</td>\n",
       "      <td>0.906247</td>\n",
       "      <td>Sometimes</td>\n",
       "      <td>Public_Transportation</td>\n",
       "      <td>Obesity_Type_III</td>\n",
       "    </tr>\n",
       "    <tr>\n",
       "      <th>2107</th>\n",
       "      <td>21.982942</td>\n",
       "      <td>Female</td>\n",
       "      <td>1.748584</td>\n",
       "      <td>133.742943</td>\n",
       "      <td>Sometimes</td>\n",
       "      <td>yes</td>\n",
       "      <td>3.0</td>\n",
       "      <td>3.0</td>\n",
       "      <td>no</td>\n",
       "      <td>no</td>\n",
       "      <td>2.005130</td>\n",
       "      <td>yes</td>\n",
       "      <td>1.341390</td>\n",
       "      <td>0.599270</td>\n",
       "      <td>Sometimes</td>\n",
       "      <td>Public_Transportation</td>\n",
       "      <td>Obesity_Type_III</td>\n",
       "    </tr>\n",
       "    <tr>\n",
       "      <th>2108</th>\n",
       "      <td>22.524036</td>\n",
       "      <td>Female</td>\n",
       "      <td>1.752206</td>\n",
       "      <td>133.689352</td>\n",
       "      <td>Sometimes</td>\n",
       "      <td>yes</td>\n",
       "      <td>3.0</td>\n",
       "      <td>3.0</td>\n",
       "      <td>no</td>\n",
       "      <td>no</td>\n",
       "      <td>2.054193</td>\n",
       "      <td>yes</td>\n",
       "      <td>1.414209</td>\n",
       "      <td>0.646288</td>\n",
       "      <td>Sometimes</td>\n",
       "      <td>Public_Transportation</td>\n",
       "      <td>Obesity_Type_III</td>\n",
       "    </tr>\n",
       "    <tr>\n",
       "      <th>2109</th>\n",
       "      <td>24.361936</td>\n",
       "      <td>Female</td>\n",
       "      <td>1.739450</td>\n",
       "      <td>133.346641</td>\n",
       "      <td>Sometimes</td>\n",
       "      <td>yes</td>\n",
       "      <td>3.0</td>\n",
       "      <td>3.0</td>\n",
       "      <td>no</td>\n",
       "      <td>no</td>\n",
       "      <td>2.852339</td>\n",
       "      <td>yes</td>\n",
       "      <td>1.139107</td>\n",
       "      <td>0.586035</td>\n",
       "      <td>Sometimes</td>\n",
       "      <td>Public_Transportation</td>\n",
       "      <td>Obesity_Type_III</td>\n",
       "    </tr>\n",
       "    <tr>\n",
       "      <th>2110</th>\n",
       "      <td>23.664709</td>\n",
       "      <td>Female</td>\n",
       "      <td>1.738836</td>\n",
       "      <td>133.472641</td>\n",
       "      <td>Sometimes</td>\n",
       "      <td>yes</td>\n",
       "      <td>3.0</td>\n",
       "      <td>3.0</td>\n",
       "      <td>no</td>\n",
       "      <td>no</td>\n",
       "      <td>2.863513</td>\n",
       "      <td>yes</td>\n",
       "      <td>1.026452</td>\n",
       "      <td>0.714137</td>\n",
       "      <td>Sometimes</td>\n",
       "      <td>Public_Transportation</td>\n",
       "      <td>Obesity_Type_III</td>\n",
       "    </tr>\n",
       "  </tbody>\n",
       "</table>\n",
       "<p>2111 rows × 17 columns</p>\n",
       "</div>"
      ],
      "text/plain": [
       "            Age  Gender    Height      Weight        CALC FAVC  FCVC  NCP  \\\n",
       "0     21.000000  Female  1.620000   64.000000          no   no   2.0  3.0   \n",
       "1     21.000000  Female  1.520000   56.000000   Sometimes   no   3.0  3.0   \n",
       "2     23.000000    Male  1.800000   77.000000  Frequently   no   2.0  3.0   \n",
       "3     27.000000    Male  1.800000   87.000000  Frequently   no   3.0  3.0   \n",
       "4     22.000000    Male  1.780000   89.800000   Sometimes   no   2.0  1.0   \n",
       "...         ...     ...       ...         ...         ...  ...   ...  ...   \n",
       "2106  20.976842  Female  1.710730  131.408528   Sometimes  yes   3.0  3.0   \n",
       "2107  21.982942  Female  1.748584  133.742943   Sometimes  yes   3.0  3.0   \n",
       "2108  22.524036  Female  1.752206  133.689352   Sometimes  yes   3.0  3.0   \n",
       "2109  24.361936  Female  1.739450  133.346641   Sometimes  yes   3.0  3.0   \n",
       "2110  23.664709  Female  1.738836  133.472641   Sometimes  yes   3.0  3.0   \n",
       "\n",
       "      SCC SMOKE      CH2O family_history_with_overweight       FAF       TUE  \\\n",
       "0      no    no  2.000000                            yes  0.000000  1.000000   \n",
       "1     yes   yes  3.000000                            yes  3.000000  0.000000   \n",
       "2      no    no  2.000000                            yes  2.000000  1.000000   \n",
       "3      no    no  2.000000                             no  2.000000  0.000000   \n",
       "4      no    no  2.000000                             no  0.000000  0.000000   \n",
       "...   ...   ...       ...                            ...       ...       ...   \n",
       "2106   no    no  1.728139                            yes  1.676269  0.906247   \n",
       "2107   no    no  2.005130                            yes  1.341390  0.599270   \n",
       "2108   no    no  2.054193                            yes  1.414209  0.646288   \n",
       "2109   no    no  2.852339                            yes  1.139107  0.586035   \n",
       "2110   no    no  2.863513                            yes  1.026452  0.714137   \n",
       "\n",
       "           CAEC                 MTRANS           NObeyesdad  \n",
       "0     Sometimes  Public_Transportation        Normal_Weight  \n",
       "1     Sometimes  Public_Transportation        Normal_Weight  \n",
       "2     Sometimes  Public_Transportation        Normal_Weight  \n",
       "3     Sometimes                Walking   Overweight_Level_I  \n",
       "4     Sometimes  Public_Transportation  Overweight_Level_II  \n",
       "...         ...                    ...                  ...  \n",
       "2106  Sometimes  Public_Transportation     Obesity_Type_III  \n",
       "2107  Sometimes  Public_Transportation     Obesity_Type_III  \n",
       "2108  Sometimes  Public_Transportation     Obesity_Type_III  \n",
       "2109  Sometimes  Public_Transportation     Obesity_Type_III  \n",
       "2110  Sometimes  Public_Transportation     Obesity_Type_III  \n",
       "\n",
       "[2111 rows x 17 columns]"
      ]
     },
     "execution_count": 64,
     "metadata": {},
     "output_type": "execute_result"
    }
   ],
   "source": [
    "df"
   ]
  },
  {
   "cell_type": "markdown",
   "id": "9ca34b1e",
   "metadata": {},
   "source": [
    "### EDA"
   ]
  },
  {
   "cell_type": "markdown",
   "id": "ee110435",
   "metadata": {},
   "source": [
    "### Information of dataset"
   ]
  },
  {
   "cell_type": "code",
   "execution_count": 65,
   "id": "de55316b",
   "metadata": {},
   "outputs": [
    {
     "name": "stdout",
     "output_type": "stream",
     "text": [
      "<class 'pandas.core.frame.DataFrame'>\n",
      "RangeIndex: 2111 entries, 0 to 2110\n",
      "Data columns (total 17 columns):\n",
      " #   Column                          Non-Null Count  Dtype  \n",
      "---  ------                          --------------  -----  \n",
      " 0   Age                             2111 non-null   float64\n",
      " 1   Gender                          2111 non-null   object \n",
      " 2   Height                          2111 non-null   float64\n",
      " 3   Weight                          2111 non-null   float64\n",
      " 4   CALC                            2111 non-null   object \n",
      " 5   FAVC                            2111 non-null   object \n",
      " 6   FCVC                            2111 non-null   float64\n",
      " 7   NCP                             2111 non-null   float64\n",
      " 8   SCC                             2111 non-null   object \n",
      " 9   SMOKE                           2111 non-null   object \n",
      " 10  CH2O                            2111 non-null   float64\n",
      " 11  family_history_with_overweight  2111 non-null   object \n",
      " 12  FAF                             2111 non-null   float64\n",
      " 13  TUE                             2111 non-null   float64\n",
      " 14  CAEC                            2111 non-null   object \n",
      " 15  MTRANS                          2111 non-null   object \n",
      " 16  NObeyesdad                      2111 non-null   object \n",
      "dtypes: float64(8), object(9)\n",
      "memory usage: 280.5+ KB\n"
     ]
    }
   ],
   "source": [
    "df.info()"
   ]
  },
  {
   "cell_type": "code",
   "execution_count": 66,
   "id": "822d4263",
   "metadata": {},
   "outputs": [
    {
     "name": "stderr",
     "output_type": "stream",
     "text": [
      "C:\\Users\\Komang Novelia Dwi A\\anaconda3\\Lib\\site-packages\\seaborn\\_oldcore.py:1119: FutureWarning: use_inf_as_na option is deprecated and will be removed in a future version. Convert inf values to NaN before operating instead.\n",
      "  with pd.option_context('mode.use_inf_as_na', True):\n"
     ]
    },
    {
     "data": {
      "image/png": "[encoded data removed]",
      "text/plain": [
       "<Figure size 800x600 with 1 Axes>"
      ]
     },
     "metadata": {},
     "output_type": "display_data"
    }
   ],
   "source": [
    "# Contoh visualisasi: Distribusi umur\n",
    "plt.figure(figsize=(8, 6))\n",
    "sns.histplot(df['Age'], bins=10, kde=True, color='pink')\n",
    "plt.title('Distribusi Umur')\n",
    "plt.xlabel('Umur')\n",
    "plt.ylabel('Frekuensi')\n",
    "plt.show()"
   ]
  },
  {
   "cell_type": "code",
   "execution_count": 67,
   "id": "60e90b85",
   "metadata": {},
   "outputs": [
    {
     "name": "stdout",
     "output_type": "stream",
     "text": [
      "Jumlah kategori untuk kolom 'Gender':\n",
      "Male: 1068\n",
      "Female: 1043\n",
      "\n",
      "Jumlah kategori untuk kolom 'CALC':\n",
      "Sometimes: 1401\n",
      "no: 639\n",
      "Frequently: 70\n",
      "Always: 1\n",
      "\n",
      "Jumlah kategori untuk kolom 'SCC':\n",
      "no: 2015\n",
      "yes: 96\n",
      "\n",
      "Jumlah kategori untuk kolom 'SMOKE':\n",
      "no: 2067\n",
      "yes: 44\n",
      "\n",
      "Jumlah kategori untuk kolom 'family_history_with_overweight':\n",
      "yes: 1726\n",
      "no: 385\n",
      "\n",
      "Jumlah kategori untuk kolom 'CAEC':\n",
      "Sometimes: 1765\n",
      "Frequently: 242\n",
      "Always: 53\n",
      "no: 51\n",
      "\n",
      "Jumlah kategori untuk kolom 'MTRANS':\n",
      "Public_Transportation: 1580\n",
      "Automobile: 457\n",
      "Walking: 56\n",
      "Motorbike: 11\n",
      "Bike: 7\n",
      "\n"
     ]
    }
   ],
   "source": [
    "# Menggunakan value_counts() dan for loop\n",
    "columns = ['Gender', 'CALC', 'SCC', 'SMOKE', 'family_history_with_overweight', 'CAEC', 'MTRANS']\n",
    "\n",
    "for column in columns:\n",
    "    value_counts = df[column].value_counts()\n",
    "    print(f\"Jumlah kategori untuk kolom '{column}':\")\n",
    "    for category, count in value_counts.items():\n",
    "        print(f\"{category}: {count}\")\n",
    "    print()"
   ]
  },
  {
   "cell_type": "code",
   "execution_count": 68,
   "id": "c8e40144",
   "metadata": {},
   "outputs": [
    {
     "data": {
      "image/png": "[encoded data removed]",
      "text/plain": [
       "<Figure size 500x2500 with 1 Axes>"
      ]
     },
     "metadata": {},
     "output_type": "display_data"
    }
   ],
   "source": [
    "# Visualisasi Pie Plot\n",
    "\n",
    "plt.figure(figsize=(5, 25))\n",
    "df['Gender'].value_counts().plot(kind='pie', autopct='%1.1f%%', colors=['skyblue', 'pink'])\n",
    "plt.title(f'Distribusi Gender')\n",
    "plt.tight_layout()\n",
    "plt.show()"
   ]
  },
  {
   "cell_type": "code",
   "execution_count": 69,
   "id": "99e0efe1",
   "metadata": {},
   "outputs": [
    {
     "data": {
      "image/png": "[encoded data removed]",
      "text/plain": [
       "<Figure size 1000x1500 with 6 Axes>"
      ]
     },
     "metadata": {},
     "output_type": "display_data"
    }
   ],
   "source": [
    "# Visualisasi Pie Plot\n",
    "columns = ['Gender', 'CALC', 'SCC', 'SMOKE', 'family_history_with_overweight', 'CAEC']\n",
    "\n",
    "plt.figure(figsize=(10, 15))\n",
    "for i, column in enumerate(columns, start=1):\n",
    "    plt.subplot(2, 3, i)\n",
    "    df[column].value_counts().plot(kind='pie', autopct='%1.1f%%', colors=['skyblue', 'pink', 'lightgreen', 'orange'])\n",
    "    plt.title(f'Distribusi {column}')\n",
    "    plt.ylabel('')\n",
    "plt.tight_layout()\n",
    "plt.show()"
   ]
  },
  {
   "cell_type": "code",
   "execution_count": 70,
   "id": "885ea4cc",
   "metadata": {},
   "outputs": [
    {
     "data": {
      "image/png": "[encoded data removed]",
      "text/plain": [
       "<Figure size 640x480 with 1 Axes>"
      ]
     },
     "metadata": {},
     "output_type": "display_data"
    }
   ],
   "source": [
    "sns.countplot(x = df.MTRANS)\n",
    "plt.xticks(rotation=70, ha='right') \n",
    "plt.show()"
   ]
  },
  {
   "cell_type": "code",
   "execution_count": 71,
   "id": "5961b6c7",
   "metadata": {},
   "outputs": [
    {
     "data": {
      "image/png": "[encoded data removed]",
      "text/plain": [
       "<Figure size 640x480 with 1 Axes>"
      ]
     },
     "metadata": {},
     "output_type": "display_data"
    }
   ],
   "source": [
    "sns.countplot(x = df.family_history_with_overweight)\n",
    "plt.show()"
   ]
  },
  {
   "cell_type": "markdown",
   "id": "bbe199f6",
   "metadata": {},
   "source": [
    "### Deskripsi statistik"
   ]
  },
  {
   "cell_type": "code",
   "execution_count": 72,
   "id": "9c53dcaa",
   "metadata": {},
   "outputs": [
    {
     "data": {
      "text/html": [
       "<div>\n",
       "<style scoped>\n",
       "    .dataframe tbody tr th:only-of-type {\n",
       "        vertical-align: middle;\n",
       "    }\n",
       "\n",
       "    .dataframe tbody tr th {\n",
       "        vertical-align: top;\n",
       "    }\n",
       "\n",
       "    .dataframe thead th {\n",
       "        text-align: right;\n",
       "    }\n",
       "</style>\n",
       "<table border=\"1\" class=\"dataframe\">\n",
       "  <thead>\n",
       "    <tr style=\"text-align: right;\">\n",
       "      <th></th>\n",
       "      <th>count</th>\n",
       "      <th>mean</th>\n",
       "      <th>std</th>\n",
       "      <th>min</th>\n",
       "      <th>25%</th>\n",
       "      <th>50%</th>\n",
       "      <th>75%</th>\n",
       "      <th>max</th>\n",
       "    </tr>\n",
       "  </thead>\n",
       "  <tbody>\n",
       "    <tr>\n",
       "      <th>Age</th>\n",
       "      <td>2111.0</td>\n",
       "      <td>24.312600</td>\n",
       "      <td>6.345968</td>\n",
       "      <td>14.00</td>\n",
       "      <td>19.947192</td>\n",
       "      <td>22.777890</td>\n",
       "      <td>26.000000</td>\n",
       "      <td>61.00</td>\n",
       "    </tr>\n",
       "    <tr>\n",
       "      <th>Height</th>\n",
       "      <td>2111.0</td>\n",
       "      <td>1.701677</td>\n",
       "      <td>0.093305</td>\n",
       "      <td>1.45</td>\n",
       "      <td>1.630000</td>\n",
       "      <td>1.700499</td>\n",
       "      <td>1.768464</td>\n",
       "      <td>1.98</td>\n",
       "    </tr>\n",
       "    <tr>\n",
       "      <th>Weight</th>\n",
       "      <td>2111.0</td>\n",
       "      <td>86.586058</td>\n",
       "      <td>26.191172</td>\n",
       "      <td>39.00</td>\n",
       "      <td>65.473343</td>\n",
       "      <td>83.000000</td>\n",
       "      <td>107.430682</td>\n",
       "      <td>173.00</td>\n",
       "    </tr>\n",
       "    <tr>\n",
       "      <th>FCVC</th>\n",
       "      <td>2111.0</td>\n",
       "      <td>2.419043</td>\n",
       "      <td>0.533927</td>\n",
       "      <td>1.00</td>\n",
       "      <td>2.000000</td>\n",
       "      <td>2.385502</td>\n",
       "      <td>3.000000</td>\n",
       "      <td>3.00</td>\n",
       "    </tr>\n",
       "    <tr>\n",
       "      <th>NCP</th>\n",
       "      <td>2111.0</td>\n",
       "      <td>2.685628</td>\n",
       "      <td>0.778039</td>\n",
       "      <td>1.00</td>\n",
       "      <td>2.658738</td>\n",
       "      <td>3.000000</td>\n",
       "      <td>3.000000</td>\n",
       "      <td>4.00</td>\n",
       "    </tr>\n",
       "    <tr>\n",
       "      <th>CH2O</th>\n",
       "      <td>2111.0</td>\n",
       "      <td>2.008011</td>\n",
       "      <td>0.612953</td>\n",
       "      <td>1.00</td>\n",
       "      <td>1.584812</td>\n",
       "      <td>2.000000</td>\n",
       "      <td>2.477420</td>\n",
       "      <td>3.00</td>\n",
       "    </tr>\n",
       "    <tr>\n",
       "      <th>FAF</th>\n",
       "      <td>2111.0</td>\n",
       "      <td>1.010298</td>\n",
       "      <td>0.850592</td>\n",
       "      <td>0.00</td>\n",
       "      <td>0.124505</td>\n",
       "      <td>1.000000</td>\n",
       "      <td>1.666678</td>\n",
       "      <td>3.00</td>\n",
       "    </tr>\n",
       "    <tr>\n",
       "      <th>TUE</th>\n",
       "      <td>2111.0</td>\n",
       "      <td>0.657866</td>\n",
       "      <td>0.608927</td>\n",
       "      <td>0.00</td>\n",
       "      <td>0.000000</td>\n",
       "      <td>0.625350</td>\n",
       "      <td>1.000000</td>\n",
       "      <td>2.00</td>\n",
       "    </tr>\n",
       "  </tbody>\n",
       "</table>\n",
       "</div>"
      ],
      "text/plain": [
       "         count       mean        std    min        25%        50%         75%  \\\n",
       "Age     2111.0  24.312600   6.345968  14.00  19.947192  22.777890   26.000000   \n",
       "Height  2111.0   1.701677   0.093305   1.45   1.630000   1.700499    1.768464   \n",
       "Weight  2111.0  86.586058  26.191172  39.00  65.473343  83.000000  107.430682   \n",
       "FCVC    2111.0   2.419043   0.533927   1.00   2.000000   2.385502    3.000000   \n",
       "NCP     2111.0   2.685628   0.778039   1.00   2.658738   3.000000    3.000000   \n",
       "CH2O    2111.0   2.008011   0.612953   1.00   1.584812   2.000000    2.477420   \n",
       "FAF     2111.0   1.010298   0.850592   0.00   0.124505   1.000000    1.666678   \n",
       "TUE     2111.0   0.657866   0.608927   0.00   0.000000   0.625350    1.000000   \n",
       "\n",
       "           max  \n",
       "Age      61.00  \n",
       "Height    1.98  \n",
       "Weight  173.00  \n",
       "FCVC      3.00  \n",
       "NCP       4.00  \n",
       "CH2O      3.00  \n",
       "FAF       3.00  \n",
       "TUE       2.00  "
      ]
     },
     "execution_count": 72,
     "metadata": {},
     "output_type": "execute_result"
    }
   ],
   "source": [
    "df.describe().T"
   ]
  },
  {
   "cell_type": "markdown",
   "id": "9ef6e0ac",
   "metadata": {},
   "source": [
    "### Check Missing Value"
   ]
  },
  {
   "cell_type": "code",
   "execution_count": 73,
   "id": "94a8530b",
   "metadata": {},
   "outputs": [
    {
     "data": {
      "text/plain": [
       "Age                               0\n",
       "Gender                            0\n",
       "Height                            0\n",
       "Weight                            0\n",
       "CALC                              0\n",
       "FAVC                              0\n",
       "FCVC                              0\n",
       "NCP                               0\n",
       "SCC                               0\n",
       "SMOKE                             0\n",
       "CH2O                              0\n",
       "family_history_with_overweight    0\n",
       "FAF                               0\n",
       "TUE                               0\n",
       "CAEC                              0\n",
       "MTRANS                            0\n",
       "NObeyesdad                        0\n",
       "dtype: int64"
      ]
     },
     "execution_count": 73,
     "metadata": {},
     "output_type": "execute_result"
    }
   ],
   "source": [
    "df.isnull().sum()"
   ]
  },
  {
   "cell_type": "code",
   "execution_count": 74,
   "id": "7e902557",
   "metadata": {},
   "outputs": [
    {
     "data": {
      "text/plain": [
       "array(['Normal_Weight', 'Overweight_Level_I', 'Overweight_Level_II',\n",
       "       'Obesity_Type_I', 'Insufficient_Weight', 'Obesity_Type_II',\n",
       "       'Obesity_Type_III'], dtype=object)"
      ]
     },
     "execution_count": 74,
     "metadata": {},
     "output_type": "execute_result"
    }
   ],
   "source": [
    "df.NObeyesdad.unique()"
   ]
  },
  {
   "cell_type": "markdown",
   "id": "0d8e828e",
   "metadata": {},
   "source": [
    "### Check Duplicated data"
   ]
  },
  {
   "cell_type": "code",
   "execution_count": 75,
   "id": "61a1091c",
   "metadata": {},
   "outputs": [
    {
     "data": {
      "text/plain": [
       "24"
      ]
     },
     "execution_count": 75,
     "metadata": {},
     "output_type": "execute_result"
    }
   ],
   "source": [
    "df.duplicated().sum()"
   ]
  },
  {
   "cell_type": "code",
   "execution_count": 76,
   "id": "a8ba9674",
   "metadata": {},
   "outputs": [
    {
     "data": {
      "text/plain": [
       "0"
      ]
     },
     "execution_count": 76,
     "metadata": {},
     "output_type": "execute_result"
    }
   ],
   "source": [
    "df = df.drop_duplicates()\n",
    "df.duplicated().sum()"
   ]
  },
  {
   "cell_type": "code",
   "execution_count": 77,
   "id": "c32a1a4a",
   "metadata": {},
   "outputs": [
    {
     "name": "stdout",
     "output_type": "stream",
     "text": [
      "<class 'pandas.core.frame.DataFrame'>\n",
      "Index: 2087 entries, 0 to 2110\n",
      "Data columns (total 17 columns):\n",
      " #   Column                          Non-Null Count  Dtype  \n",
      "---  ------                          --------------  -----  \n",
      " 0   Age                             2087 non-null   float64\n",
      " 1   Gender                          2087 non-null   object \n",
      " 2   Height                          2087 non-null   float64\n",
      " 3   Weight                          2087 non-null   float64\n",
      " 4   CALC                            2087 non-null   object \n",
      " 5   FAVC                            2087 non-null   object \n",
      " 6   FCVC                            2087 non-null   float64\n",
      " 7   NCP                             2087 non-null   float64\n",
      " 8   SCC                             2087 non-null   object \n",
      " 9   SMOKE                           2087 non-null   object \n",
      " 10  CH2O                            2087 non-null   float64\n",
      " 11  family_history_with_overweight  2087 non-null   object \n",
      " 12  FAF                             2087 non-null   float64\n",
      " 13  TUE                             2087 non-null   float64\n",
      " 14  CAEC                            2087 non-null   object \n",
      " 15  MTRANS                          2087 non-null   object \n",
      " 16  NObeyesdad                      2087 non-null   object \n",
      "dtypes: float64(8), object(9)\n",
      "memory usage: 293.5+ KB\n"
     ]
    }
   ],
   "source": [
    "df.info()"
   ]
  },
  {
   "cell_type": "code",
   "execution_count": 78,
   "id": "417dfc52",
   "metadata": {},
   "outputs": [
    {
     "data": {
      "text/html": [
       "<div>\n",
       "<style scoped>\n",
       "    .dataframe tbody tr th:only-of-type {\n",
       "        vertical-align: middle;\n",
       "    }\n",
       "\n",
       "    .dataframe tbody tr th {\n",
       "        vertical-align: top;\n",
       "    }\n",
       "\n",
       "    .dataframe thead th {\n",
       "        text-align: right;\n",
       "    }\n",
       "</style>\n",
       "<table border=\"1\" class=\"dataframe\">\n",
       "  <thead>\n",
       "    <tr style=\"text-align: right;\">\n",
       "      <th></th>\n",
       "      <th>count</th>\n",
       "      <th>mean</th>\n",
       "      <th>std</th>\n",
       "      <th>min</th>\n",
       "      <th>25%</th>\n",
       "      <th>50%</th>\n",
       "      <th>75%</th>\n",
       "      <th>max</th>\n",
       "    </tr>\n",
       "  </thead>\n",
       "  <tbody>\n",
       "    <tr>\n",
       "      <th>Age</th>\n",
       "      <td>2087.0</td>\n",
       "      <td>24.353090</td>\n",
       "      <td>6.368801</td>\n",
       "      <td>14.00</td>\n",
       "      <td>19.915937</td>\n",
       "      <td>22.847618</td>\n",
       "      <td>26.000000</td>\n",
       "      <td>61.00</td>\n",
       "    </tr>\n",
       "    <tr>\n",
       "      <th>Height</th>\n",
       "      <td>2087.0</td>\n",
       "      <td>1.702674</td>\n",
       "      <td>0.093186</td>\n",
       "      <td>1.45</td>\n",
       "      <td>1.630178</td>\n",
       "      <td>1.701584</td>\n",
       "      <td>1.769491</td>\n",
       "      <td>1.98</td>\n",
       "    </tr>\n",
       "    <tr>\n",
       "      <th>Weight</th>\n",
       "      <td>2087.0</td>\n",
       "      <td>86.858730</td>\n",
       "      <td>26.190847</td>\n",
       "      <td>39.00</td>\n",
       "      <td>66.000000</td>\n",
       "      <td>83.101100</td>\n",
       "      <td>108.015907</td>\n",
       "      <td>173.00</td>\n",
       "    </tr>\n",
       "    <tr>\n",
       "      <th>FCVC</th>\n",
       "      <td>2087.0</td>\n",
       "      <td>2.421466</td>\n",
       "      <td>0.534737</td>\n",
       "      <td>1.00</td>\n",
       "      <td>2.000000</td>\n",
       "      <td>2.396265</td>\n",
       "      <td>3.000000</td>\n",
       "      <td>3.00</td>\n",
       "    </tr>\n",
       "    <tr>\n",
       "      <th>NCP</th>\n",
       "      <td>2087.0</td>\n",
       "      <td>2.701179</td>\n",
       "      <td>0.764614</td>\n",
       "      <td>1.00</td>\n",
       "      <td>2.697467</td>\n",
       "      <td>3.000000</td>\n",
       "      <td>3.000000</td>\n",
       "      <td>4.00</td>\n",
       "    </tr>\n",
       "    <tr>\n",
       "      <th>CH2O</th>\n",
       "      <td>2087.0</td>\n",
       "      <td>2.004749</td>\n",
       "      <td>0.608284</td>\n",
       "      <td>1.00</td>\n",
       "      <td>1.590922</td>\n",
       "      <td>2.000000</td>\n",
       "      <td>2.466193</td>\n",
       "      <td>3.00</td>\n",
       "    </tr>\n",
       "    <tr>\n",
       "      <th>FAF</th>\n",
       "      <td>2087.0</td>\n",
       "      <td>1.012812</td>\n",
       "      <td>0.853475</td>\n",
       "      <td>0.00</td>\n",
       "      <td>0.124505</td>\n",
       "      <td>1.000000</td>\n",
       "      <td>1.678102</td>\n",
       "      <td>3.00</td>\n",
       "    </tr>\n",
       "    <tr>\n",
       "      <th>TUE</th>\n",
       "      <td>2087.0</td>\n",
       "      <td>0.663035</td>\n",
       "      <td>0.608153</td>\n",
       "      <td>0.00</td>\n",
       "      <td>0.000000</td>\n",
       "      <td>0.630866</td>\n",
       "      <td>1.000000</td>\n",
       "      <td>2.00</td>\n",
       "    </tr>\n",
       "  </tbody>\n",
       "</table>\n",
       "</div>"
      ],
      "text/plain": [
       "         count       mean        std    min        25%        50%         75%  \\\n",
       "Age     2087.0  24.353090   6.368801  14.00  19.915937  22.847618   26.000000   \n",
       "Height  2087.0   1.702674   0.093186   1.45   1.630178   1.701584    1.769491   \n",
       "Weight  2087.0  86.858730  26.190847  39.00  66.000000  83.101100  108.015907   \n",
       "FCVC    2087.0   2.421466   0.534737   1.00   2.000000   2.396265    3.000000   \n",
       "NCP     2087.0   2.701179   0.764614   1.00   2.697467   3.000000    3.000000   \n",
       "CH2O    2087.0   2.004749   0.608284   1.00   1.590922   2.000000    2.466193   \n",
       "FAF     2087.0   1.012812   0.853475   0.00   0.124505   1.000000    1.678102   \n",
       "TUE     2087.0   0.663035   0.608153   0.00   0.000000   0.630866    1.000000   \n",
       "\n",
       "           max  \n",
       "Age      61.00  \n",
       "Height    1.98  \n",
       "Weight  173.00  \n",
       "FCVC      3.00  \n",
       "NCP       4.00  \n",
       "CH2O      3.00  \n",
       "FAF       3.00  \n",
       "TUE       2.00  "
      ]
     },
     "execution_count": 78,
     "metadata": {},
     "output_type": "execute_result"
    }
   ],
   "source": [
    "df.describe().T"
   ]
  },
  {
   "cell_type": "code",
   "execution_count": 79,
   "id": "c338dc23",
   "metadata": {},
   "outputs": [
    {
     "name": "stderr",
     "output_type": "stream",
     "text": [
      "C:\\Users\\Komang Novelia Dwi A\\AppData\\Local\\Temp\\ipykernel_13076\\487940495.py:6: SettingWithCopyWarning: \n",
      "A value is trying to be set on a copy of a slice from a DataFrame.\n",
      "Try using .loc[row_indexer,col_indexer] = value instead\n",
      "\n",
      "See the caveats in the documentation: https://pandas.pydata.org/pandas-docs/stable/user_guide/indexing.html#returning-a-view-versus-a-copy\n",
      "  df[column] = label_encoder.fit_transform(df[column])\n",
      "C:\\Users\\Komang Novelia Dwi A\\AppData\\Local\\Temp\\ipykernel_13076\\487940495.py:6: SettingWithCopyWarning: \n",
      "A value is trying to be set on a copy of a slice from a DataFrame.\n",
      "Try using .loc[row_indexer,col_indexer] = value instead\n",
      "\n",
      "See the caveats in the documentation: https://pandas.pydata.org/pandas-docs/stable/user_guide/indexing.html#returning-a-view-versus-a-copy\n",
      "  df[column] = label_encoder.fit_transform(df[column])\n",
      "C:\\Users\\Komang Novelia Dwi A\\AppData\\Local\\Temp\\ipykernel_13076\\487940495.py:6: SettingWithCopyWarning: \n",
      "A value is trying to be set on a copy of a slice from a DataFrame.\n",
      "Try using .loc[row_indexer,col_indexer] = value instead\n",
      "\n",
      "See the caveats in the documentation: https://pandas.pydata.org/pandas-docs/stable/user_guide/indexing.html#returning-a-view-versus-a-copy\n",
      "  df[column] = label_encoder.fit_transform(df[column])\n",
      "C:\\Users\\Komang Novelia Dwi A\\AppData\\Local\\Temp\\ipykernel_13076\\487940495.py:6: SettingWithCopyWarning: \n",
      "A value is trying to be set on a copy of a slice from a DataFrame.\n",
      "Try using .loc[row_indexer,col_indexer] = value instead\n",
      "\n",
      "See the caveats in the documentation: https://pandas.pydata.org/pandas-docs/stable/user_guide/indexing.html#returning-a-view-versus-a-copy\n",
      "  df[column] = label_encoder.fit_transform(df[column])\n",
      "C:\\Users\\Komang Novelia Dwi A\\AppData\\Local\\Temp\\ipykernel_13076\\487940495.py:6: SettingWithCopyWarning: \n",
      "A value is trying to be set on a copy of a slice from a DataFrame.\n",
      "Try using .loc[row_indexer,col_indexer] = value instead\n",
      "\n",
      "See the caveats in the documentation: https://pandas.pydata.org/pandas-docs/stable/user_guide/indexing.html#returning-a-view-versus-a-copy\n",
      "  df[column] = label_encoder.fit_transform(df[column])\n",
      "C:\\Users\\Komang Novelia Dwi A\\AppData\\Local\\Temp\\ipykernel_13076\\487940495.py:6: SettingWithCopyWarning: \n",
      "A value is trying to be set on a copy of a slice from a DataFrame.\n",
      "Try using .loc[row_indexer,col_indexer] = value instead\n",
      "\n",
      "See the caveats in the documentation: https://pandas.pydata.org/pandas-docs/stable/user_guide/indexing.html#returning-a-view-versus-a-copy\n",
      "  df[column] = label_encoder.fit_transform(df[column])\n",
      "C:\\Users\\Komang Novelia Dwi A\\AppData\\Local\\Temp\\ipykernel_13076\\487940495.py:6: SettingWithCopyWarning: \n",
      "A value is trying to be set on a copy of a slice from a DataFrame.\n",
      "Try using .loc[row_indexer,col_indexer] = value instead\n",
      "\n",
      "See the caveats in the documentation: https://pandas.pydata.org/pandas-docs/stable/user_guide/indexing.html#returning-a-view-versus-a-copy\n",
      "  df[column] = label_encoder.fit_transform(df[column])\n",
      "C:\\Users\\Komang Novelia Dwi A\\AppData\\Local\\Temp\\ipykernel_13076\\487940495.py:6: SettingWithCopyWarning: \n",
      "A value is trying to be set on a copy of a slice from a DataFrame.\n",
      "Try using .loc[row_indexer,col_indexer] = value instead\n",
      "\n",
      "See the caveats in the documentation: https://pandas.pydata.org/pandas-docs/stable/user_guide/indexing.html#returning-a-view-versus-a-copy\n",
      "  df[column] = label_encoder.fit_transform(df[column])\n",
      "C:\\Users\\Komang Novelia Dwi A\\AppData\\Local\\Temp\\ipykernel_13076\\487940495.py:6: SettingWithCopyWarning: \n",
      "A value is trying to be set on a copy of a slice from a DataFrame.\n",
      "Try using .loc[row_indexer,col_indexer] = value instead\n",
      "\n",
      "See the caveats in the documentation: https://pandas.pydata.org/pandas-docs/stable/user_guide/indexing.html#returning-a-view-versus-a-copy\n",
      "  df[column] = label_encoder.fit_transform(df[column])\n"
     ]
    }
   ],
   "source": [
    "# Inisialisasi LabelEncoder\n",
    "label_encoder = LabelEncoder()\n",
    "\n",
    "# Loop untuk melakukan label encoding pada setiap kolom kategori\n",
    "for column in df.select_dtypes(include=['object']).columns:\n",
    "    df[column] = label_encoder.fit_transform(df[column])"
   ]
  },
  {
   "cell_type": "code",
   "execution_count": 80,
   "id": "1d0a8b8a",
   "metadata": {},
   "outputs": [
    {
     "data": {
      "text/html": [
       "<div>\n",
       "<style scoped>\n",
       "    .dataframe tbody tr th:only-of-type {\n",
       "        vertical-align: middle;\n",
       "    }\n",
       "\n",
       "    .dataframe tbody tr th {\n",
       "        vertical-align: top;\n",
       "    }\n",
       "\n",
       "    .dataframe thead th {\n",
       "        text-align: right;\n",
       "    }\n",
       "</style>\n",
       "<table border=\"1\" class=\"dataframe\">\n",
       "  <thead>\n",
       "    <tr style=\"text-align: right;\">\n",
       "      <th></th>\n",
       "      <th>Age</th>\n",
       "      <th>Gender</th>\n",
       "      <th>Height</th>\n",
       "      <th>Weight</th>\n",
       "      <th>CALC</th>\n",
       "      <th>FAVC</th>\n",
       "      <th>FCVC</th>\n",
       "      <th>NCP</th>\n",
       "      <th>SCC</th>\n",
       "      <th>SMOKE</th>\n",
       "      <th>CH2O</th>\n",
       "      <th>family_history_with_overweight</th>\n",
       "      <th>FAF</th>\n",
       "      <th>TUE</th>\n",
       "      <th>CAEC</th>\n",
       "      <th>MTRANS</th>\n",
       "      <th>NObeyesdad</th>\n",
       "    </tr>\n",
       "  </thead>\n",
       "  <tbody>\n",
       "    <tr>\n",
       "      <th>Age</th>\n",
       "      <td>1.000000</td>\n",
       "      <td>0.050641</td>\n",
       "      <td>-0.031748</td>\n",
       "      <td>0.198160</td>\n",
       "      <td>-0.045565</td>\n",
       "      <td>0.063895</td>\n",
       "      <td>0.013572</td>\n",
       "      <td>-0.055823</td>\n",
       "      <td>-0.117959</td>\n",
       "      <td>0.091261</td>\n",
       "      <td>-0.044058</td>\n",
       "      <td>0.200379</td>\n",
       "      <td>-0.148202</td>\n",
       "      <td>-0.302927</td>\n",
       "      <td>0.092097</td>\n",
       "      <td>-0.601476</td>\n",
       "      <td>0.238308</td>\n",
       "    </tr>\n",
       "    <tr>\n",
       "      <th>Gender</th>\n",
       "      <td>0.050641</td>\n",
       "      <td>1.000000</td>\n",
       "      <td>0.626748</td>\n",
       "      <td>0.163176</td>\n",
       "      <td>0.010574</td>\n",
       "      <td>0.061220</td>\n",
       "      <td>-0.271575</td>\n",
       "      <td>0.077863</td>\n",
       "      <td>-0.102435</td>\n",
       "      <td>0.045501</td>\n",
       "      <td>0.095129</td>\n",
       "      <td>0.113492</td>\n",
       "      <td>0.189471</td>\n",
       "      <td>0.022356</td>\n",
       "      <td>0.074564</td>\n",
       "      <td>-0.139044</td>\n",
       "      <td>0.014699</td>\n",
       "    </tr>\n",
       "    <tr>\n",
       "      <th>Height</th>\n",
       "      <td>-0.031748</td>\n",
       "      <td>0.626748</td>\n",
       "      <td>1.000000</td>\n",
       "      <td>0.457468</td>\n",
       "      <td>-0.135756</td>\n",
       "      <td>0.180694</td>\n",
       "      <td>-0.040363</td>\n",
       "      <td>0.227806</td>\n",
       "      <td>-0.137078</td>\n",
       "      <td>0.054326</td>\n",
       "      <td>0.220487</td>\n",
       "      <td>0.232258</td>\n",
       "      <td>0.293584</td>\n",
       "      <td>0.041808</td>\n",
       "      <td>0.058001</td>\n",
       "      <td>-0.068258</td>\n",
       "      <td>0.038700</td>\n",
       "    </tr>\n",
       "    <tr>\n",
       "      <th>Weight</th>\n",
       "      <td>0.198160</td>\n",
       "      <td>0.163176</td>\n",
       "      <td>0.457468</td>\n",
       "      <td>1.000000</td>\n",
       "      <td>-0.211351</td>\n",
       "      <td>0.274655</td>\n",
       "      <td>0.216574</td>\n",
       "      <td>0.092149</td>\n",
       "      <td>-0.205409</td>\n",
       "      <td>0.024369</td>\n",
       "      <td>0.203823</td>\n",
       "      <td>0.492969</td>\n",
       "      <td>-0.056490</td>\n",
       "      <td>-0.079351</td>\n",
       "      <td>0.300271</td>\n",
       "      <td>0.009836</td>\n",
       "      <td>0.388802</td>\n",
       "    </tr>\n",
       "    <tr>\n",
       "      <th>CALC</th>\n",
       "      <td>-0.045565</td>\n",
       "      <td>0.010574</td>\n",
       "      <td>-0.135756</td>\n",
       "      <td>-0.211351</td>\n",
       "      <td>1.000000</td>\n",
       "      <td>-0.087661</td>\n",
       "      <td>-0.063132</td>\n",
       "      <td>-0.082985</td>\n",
       "      <td>-0.004175</td>\n",
       "      <td>-0.083181</td>\n",
       "      <td>-0.085460</td>\n",
       "      <td>0.028403</td>\n",
       "      <td>0.086825</td>\n",
       "      <td>0.041830</td>\n",
       "      <td>-0.039502</td>\n",
       "      <td>-0.009828</td>\n",
       "      <td>-0.132821</td>\n",
       "    </tr>\n",
       "    <tr>\n",
       "      <th>FAVC</th>\n",
       "      <td>0.063895</td>\n",
       "      <td>0.061220</td>\n",
       "      <td>0.180694</td>\n",
       "      <td>0.274655</td>\n",
       "      <td>-0.087661</td>\n",
       "      <td>1.000000</td>\n",
       "      <td>-0.025419</td>\n",
       "      <td>-0.006398</td>\n",
       "      <td>-0.191277</td>\n",
       "      <td>-0.050713</td>\n",
       "      <td>0.002993</td>\n",
       "      <td>0.214329</td>\n",
       "      <td>-0.111184</td>\n",
       "      <td>0.071505</td>\n",
       "      <td>0.147921</td>\n",
       "      <td>-0.069422</td>\n",
       "      <td>0.041023</td>\n",
       "    </tr>\n",
       "    <tr>\n",
       "      <th>FCVC</th>\n",
       "      <td>0.013572</td>\n",
       "      <td>-0.271575</td>\n",
       "      <td>-0.040363</td>\n",
       "      <td>0.216574</td>\n",
       "      <td>-0.063132</td>\n",
       "      <td>-0.025419</td>\n",
       "      <td>1.000000</td>\n",
       "      <td>0.034885</td>\n",
       "      <td>0.071179</td>\n",
       "      <td>0.013716</td>\n",
       "      <td>0.081332</td>\n",
       "      <td>0.033199</td>\n",
       "      <td>0.022003</td>\n",
       "      <td>-0.104128</td>\n",
       "      <td>-0.038565</td>\n",
       "      <td>0.069012</td>\n",
       "      <td>0.025728</td>\n",
       "    </tr>\n",
       "    <tr>\n",
       "      <th>NCP</th>\n",
       "      <td>-0.055823</td>\n",
       "      <td>0.077863</td>\n",
       "      <td>0.227806</td>\n",
       "      <td>0.092149</td>\n",
       "      <td>-0.082985</td>\n",
       "      <td>-0.006398</td>\n",
       "      <td>0.034885</td>\n",
       "      <td>1.000000</td>\n",
       "      <td>-0.020461</td>\n",
       "      <td>0.005009</td>\n",
       "      <td>0.075335</td>\n",
       "      <td>0.028411</td>\n",
       "      <td>0.127816</td>\n",
       "      <td>0.015693</td>\n",
       "      <td>-0.072316</td>\n",
       "      <td>-0.043648</td>\n",
       "      <td>-0.088235</td>\n",
       "    </tr>\n",
       "    <tr>\n",
       "      <th>SCC</th>\n",
       "      <td>-0.117959</td>\n",
       "      <td>-0.102435</td>\n",
       "      <td>-0.137078</td>\n",
       "      <td>-0.205409</td>\n",
       "      <td>-0.004175</td>\n",
       "      <td>-0.191277</td>\n",
       "      <td>0.071179</td>\n",
       "      <td>-0.020461</td>\n",
       "      <td>1.000000</td>\n",
       "      <td>0.047384</td>\n",
       "      <td>0.009325</td>\n",
       "      <td>-0.193947</td>\n",
       "      <td>0.073768</td>\n",
       "      <td>-0.012875</td>\n",
       "      <td>-0.109393</td>\n",
       "      <td>0.044381</td>\n",
       "      <td>-0.050936</td>\n",
       "    </tr>\n",
       "    <tr>\n",
       "      <th>SMOKE</th>\n",
       "      <td>0.091261</td>\n",
       "      <td>0.045501</td>\n",
       "      <td>0.054326</td>\n",
       "      <td>0.024369</td>\n",
       "      <td>-0.083181</td>\n",
       "      <td>-0.050713</td>\n",
       "      <td>0.013716</td>\n",
       "      <td>0.005009</td>\n",
       "      <td>0.047384</td>\n",
       "      <td>1.000000</td>\n",
       "      <td>-0.031642</td>\n",
       "      <td>0.014885</td>\n",
       "      <td>0.010811</td>\n",
       "      <td>0.016491</td>\n",
       "      <td>-0.054960</td>\n",
       "      <td>-0.009995</td>\n",
       "      <td>-0.023341</td>\n",
       "    </tr>\n",
       "    <tr>\n",
       "      <th>CH2O</th>\n",
       "      <td>-0.044058</td>\n",
       "      <td>0.095129</td>\n",
       "      <td>0.220487</td>\n",
       "      <td>0.203823</td>\n",
       "      <td>-0.085460</td>\n",
       "      <td>0.002993</td>\n",
       "      <td>0.081332</td>\n",
       "      <td>0.075335</td>\n",
       "      <td>0.009325</td>\n",
       "      <td>-0.031642</td>\n",
       "      <td>1.000000</td>\n",
       "      <td>0.168627</td>\n",
       "      <td>0.165310</td>\n",
       "      <td>0.020704</td>\n",
       "      <td>0.114801</td>\n",
       "      <td>0.040762</td>\n",
       "      <td>0.092616</td>\n",
       "    </tr>\n",
       "    <tr>\n",
       "      <th>family_history_with_overweight</th>\n",
       "      <td>0.200379</td>\n",
       "      <td>0.113492</td>\n",
       "      <td>0.232258</td>\n",
       "      <td>0.492969</td>\n",
       "      <td>0.028403</td>\n",
       "      <td>0.214329</td>\n",
       "      <td>0.033199</td>\n",
       "      <td>0.028411</td>\n",
       "      <td>-0.193947</td>\n",
       "      <td>0.014885</td>\n",
       "      <td>0.168627</td>\n",
       "      <td>1.000000</td>\n",
       "      <td>-0.062937</td>\n",
       "      <td>0.002314</td>\n",
       "      <td>0.207738</td>\n",
       "      <td>-0.092730</td>\n",
       "      <td>0.330391</td>\n",
       "    </tr>\n",
       "    <tr>\n",
       "      <th>FAF</th>\n",
       "      <td>-0.148202</td>\n",
       "      <td>0.189471</td>\n",
       "      <td>0.293584</td>\n",
       "      <td>-0.056490</td>\n",
       "      <td>0.086825</td>\n",
       "      <td>-0.111184</td>\n",
       "      <td>0.022003</td>\n",
       "      <td>0.127816</td>\n",
       "      <td>0.073768</td>\n",
       "      <td>0.010811</td>\n",
       "      <td>0.165310</td>\n",
       "      <td>-0.062937</td>\n",
       "      <td>1.000000</td>\n",
       "      <td>0.058716</td>\n",
       "      <td>-0.034803</td>\n",
       "      <td>0.008353</td>\n",
       "      <td>-0.135192</td>\n",
       "    </tr>\n",
       "    <tr>\n",
       "      <th>TUE</th>\n",
       "      <td>-0.302927</td>\n",
       "      <td>0.022356</td>\n",
       "      <td>0.041808</td>\n",
       "      <td>-0.079351</td>\n",
       "      <td>0.041830</td>\n",
       "      <td>0.071505</td>\n",
       "      <td>-0.104128</td>\n",
       "      <td>0.015693</td>\n",
       "      <td>-0.012875</td>\n",
       "      <td>0.016491</td>\n",
       "      <td>0.020704</td>\n",
       "      <td>0.002314</td>\n",
       "      <td>0.058716</td>\n",
       "      <td>1.000000</td>\n",
       "      <td>-0.036708</td>\n",
       "      <td>0.181511</td>\n",
       "      <td>-0.064876</td>\n",
       "    </tr>\n",
       "    <tr>\n",
       "      <th>CAEC</th>\n",
       "      <td>0.092097</td>\n",
       "      <td>0.074564</td>\n",
       "      <td>0.058001</td>\n",
       "      <td>0.300271</td>\n",
       "      <td>-0.039502</td>\n",
       "      <td>0.147921</td>\n",
       "      <td>-0.038565</td>\n",
       "      <td>-0.072316</td>\n",
       "      <td>-0.109393</td>\n",
       "      <td>-0.054960</td>\n",
       "      <td>0.114801</td>\n",
       "      <td>0.207738</td>\n",
       "      <td>-0.034803</td>\n",
       "      <td>-0.036708</td>\n",
       "      <td>1.000000</td>\n",
       "      <td>-0.058158</td>\n",
       "      <td>0.314510</td>\n",
       "    </tr>\n",
       "    <tr>\n",
       "      <th>MTRANS</th>\n",
       "      <td>-0.601476</td>\n",
       "      <td>-0.139044</td>\n",
       "      <td>-0.068258</td>\n",
       "      <td>0.009836</td>\n",
       "      <td>-0.009828</td>\n",
       "      <td>-0.069422</td>\n",
       "      <td>0.069012</td>\n",
       "      <td>-0.043648</td>\n",
       "      <td>0.044381</td>\n",
       "      <td>-0.009995</td>\n",
       "      <td>0.040762</td>\n",
       "      <td>-0.092730</td>\n",
       "      <td>0.008353</td>\n",
       "      <td>0.181511</td>\n",
       "      <td>-0.058158</td>\n",
       "      <td>1.000000</td>\n",
       "      <td>-0.047784</td>\n",
       "    </tr>\n",
       "    <tr>\n",
       "      <th>NObeyesdad</th>\n",
       "      <td>0.238308</td>\n",
       "      <td>0.014699</td>\n",
       "      <td>0.038700</td>\n",
       "      <td>0.388802</td>\n",
       "      <td>-0.132821</td>\n",
       "      <td>0.041023</td>\n",
       "      <td>0.025728</td>\n",
       "      <td>-0.088235</td>\n",
       "      <td>-0.050936</td>\n",
       "      <td>-0.023341</td>\n",
       "      <td>0.092616</td>\n",
       "      <td>0.330391</td>\n",
       "      <td>-0.135192</td>\n",
       "      <td>-0.064876</td>\n",
       "      <td>0.314510</td>\n",
       "      <td>-0.047784</td>\n",
       "      <td>1.000000</td>\n",
       "    </tr>\n",
       "  </tbody>\n",
       "</table>\n",
       "</div>"
      ],
      "text/plain": [
       "                                     Age    Gender    Height    Weight  \\\n",
       "Age                             1.000000  0.050641 -0.031748  0.198160   \n",
       "Gender                          0.050641  1.000000  0.626748  0.163176   \n",
       "Height                         -0.031748  0.626748  1.000000  0.457468   \n",
       "Weight                          0.198160  0.163176  0.457468  1.000000   \n",
       "CALC                           -0.045565  0.010574 -0.135756 -0.211351   \n",
       "FAVC                            0.063895  0.061220  0.180694  0.274655   \n",
       "FCVC                            0.013572 -0.271575 -0.040363  0.216574   \n",
       "NCP                            -0.055823  0.077863  0.227806  0.092149   \n",
       "SCC                            -0.117959 -0.102435 -0.137078 -0.205409   \n",
       "SMOKE                           0.091261  0.045501  0.054326  0.024369   \n",
       "CH2O                           -0.044058  0.095129  0.220487  0.203823   \n",
       "family_history_with_overweight  0.200379  0.113492  0.232258  0.492969   \n",
       "FAF                            -0.148202  0.189471  0.293584 -0.056490   \n",
       "TUE                            -0.302927  0.022356  0.041808 -0.079351   \n",
       "CAEC                            0.092097  0.074564  0.058001  0.300271   \n",
       "MTRANS                         -0.601476 -0.139044 -0.068258  0.009836   \n",
       "NObeyesdad                      0.238308  0.014699  0.038700  0.388802   \n",
       "\n",
       "                                    CALC      FAVC      FCVC       NCP  \\\n",
       "Age                            -0.045565  0.063895  0.013572 -0.055823   \n",
       "Gender                          0.010574  0.061220 -0.271575  0.077863   \n",
       "Height                         -0.135756  0.180694 -0.040363  0.227806   \n",
       "Weight                         -0.211351  0.274655  0.216574  0.092149   \n",
       "CALC                            1.000000 -0.087661 -0.063132 -0.082985   \n",
       "FAVC                           -0.087661  1.000000 -0.025419 -0.006398   \n",
       "FCVC                           -0.063132 -0.025419  1.000000  0.034885   \n",
       "NCP                            -0.082985 -0.006398  0.034885  1.000000   \n",
       "SCC                            -0.004175 -0.191277  0.071179 -0.020461   \n",
       "SMOKE                          -0.083181 -0.050713  0.013716  0.005009   \n",
       "CH2O                           -0.085460  0.002993  0.081332  0.075335   \n",
       "family_history_with_overweight  0.028403  0.214329  0.033199  0.028411   \n",
       "FAF                             0.086825 -0.111184  0.022003  0.127816   \n",
       "TUE                             0.041830  0.071505 -0.104128  0.015693   \n",
       "CAEC                           -0.039502  0.147921 -0.038565 -0.072316   \n",
       "MTRANS                         -0.009828 -0.069422  0.069012 -0.043648   \n",
       "NObeyesdad                     -0.132821  0.041023  0.025728 -0.088235   \n",
       "\n",
       "                                     SCC     SMOKE      CH2O  \\\n",
       "Age                            -0.117959  0.091261 -0.044058   \n",
       "Gender                         -0.102435  0.045501  0.095129   \n",
       "Height                         -0.137078  0.054326  0.220487   \n",
       "Weight                         -0.205409  0.024369  0.203823   \n",
       "CALC                           -0.004175 -0.083181 -0.085460   \n",
       "FAVC                           -0.191277 -0.050713  0.002993   \n",
       "FCVC                            0.071179  0.013716  0.081332   \n",
       "NCP                            -0.020461  0.005009  0.075335   \n",
       "SCC                             1.000000  0.047384  0.009325   \n",
       "SMOKE                           0.047384  1.000000 -0.031642   \n",
       "CH2O                            0.009325 -0.031642  1.000000   \n",
       "family_history_with_overweight -0.193947  0.014885  0.168627   \n",
       "FAF                             0.073768  0.010811  0.165310   \n",
       "TUE                            -0.012875  0.016491  0.020704   \n",
       "CAEC                           -0.109393 -0.054960  0.114801   \n",
       "MTRANS                          0.044381 -0.009995  0.040762   \n",
       "NObeyesdad                     -0.050936 -0.023341  0.092616   \n",
       "\n",
       "                                family_history_with_overweight       FAF  \\\n",
       "Age                                                   0.200379 -0.148202   \n",
       "Gender                                                0.113492  0.189471   \n",
       "Height                                                0.232258  0.293584   \n",
       "Weight                                                0.492969 -0.056490   \n",
       "CALC                                                  0.028403  0.086825   \n",
       "FAVC                                                  0.214329 -0.111184   \n",
       "FCVC                                                  0.033199  0.022003   \n",
       "NCP                                                   0.028411  0.127816   \n",
       "SCC                                                  -0.193947  0.073768   \n",
       "SMOKE                                                 0.014885  0.010811   \n",
       "CH2O                                                  0.168627  0.165310   \n",
       "family_history_with_overweight                        1.000000 -0.062937   \n",
       "FAF                                                  -0.062937  1.000000   \n",
       "TUE                                                   0.002314  0.058716   \n",
       "CAEC                                                  0.207738 -0.034803   \n",
       "MTRANS                                               -0.092730  0.008353   \n",
       "NObeyesdad                                            0.330391 -0.135192   \n",
       "\n",
       "                                     TUE      CAEC    MTRANS  NObeyesdad  \n",
       "Age                            -0.302927  0.092097 -0.601476    0.238308  \n",
       "Gender                          0.022356  0.074564 -0.139044    0.014699  \n",
       "Height                          0.041808  0.058001 -0.068258    0.038700  \n",
       "Weight                         -0.079351  0.300271  0.009836    0.388802  \n",
       "CALC                            0.041830 -0.039502 -0.009828   -0.132821  \n",
       "FAVC                            0.071505  0.147921 -0.069422    0.041023  \n",
       "FCVC                           -0.104128 -0.038565  0.069012    0.025728  \n",
       "NCP                             0.015693 -0.072316 -0.043648   -0.088235  \n",
       "SCC                            -0.012875 -0.109393  0.044381   -0.050936  \n",
       "SMOKE                           0.016491 -0.054960 -0.009995   -0.023341  \n",
       "CH2O                            0.020704  0.114801  0.040762    0.092616  \n",
       "family_history_with_overweight  0.002314  0.207738 -0.092730    0.330391  \n",
       "FAF                             0.058716 -0.034803  0.008353   -0.135192  \n",
       "TUE                             1.000000 -0.036708  0.181511   -0.064876  \n",
       "CAEC                           -0.036708  1.000000 -0.058158    0.314510  \n",
       "MTRANS                          0.181511 -0.058158  1.000000   -0.047784  \n",
       "NObeyesdad                     -0.064876  0.314510 -0.047784    1.000000  "
      ]
     },
     "execution_count": 80,
     "metadata": {},
     "output_type": "execute_result"
    }
   ],
   "source": [
    "df.corr()"
   ]
  },
  {
   "cell_type": "code",
   "execution_count": 81,
   "id": "dca9d314",
   "metadata": {},
   "outputs": [
    {
     "data": {
      "image/png": "[encoded data removed]",
      "text/plain": [
       "<Figure size 1000x800 with 2 Axes>"
      ]
     },
     "metadata": {},
     "output_type": "display_data"
    }
   ],
   "source": [
    "# Plot heatmap\n",
    "plt.figure(figsize=(10, 8))\n",
    "sns.heatmap(df.corr(), annot=True, cmap='coolwarm', fmt=\".2f\", linewidths=0.5)\n",
    "plt.title('Heatmap Korelasi antar Kolom')\n",
    "plt.show()"
   ]
  },
  {
   "cell_type": "code",
   "execution_count": 82,
   "id": "7bd3e5c3",
   "metadata": {},
   "outputs": [
    {
     "name": "stderr",
     "output_type": "stream",
     "text": [
      "C:\\Users\\Komang Novelia Dwi A\\anaconda3\\Lib\\site-packages\\seaborn\\_oldcore.py:1119: FutureWarning: use_inf_as_na option is deprecated and will be removed in a future version. Convert inf values to NaN before operating instead.\n",
      "  with pd.option_context('mode.use_inf_as_na', True):\n",
      "C:\\Users\\Komang Novelia Dwi A\\anaconda3\\Lib\\site-packages\\seaborn\\_oldcore.py:1119: FutureWarning: use_inf_as_na option is deprecated and will be removed in a future version. Convert inf values to NaN before operating instead.\n",
      "  with pd.option_context('mode.use_inf_as_na', True):\n"
     ]
    },
    {
     "data": {
      "image/png": "[encoded data removed]",
      "text/plain": [
       "<Figure size 1000x600 with 1 Axes>"
      ]
     },
     "metadata": {},
     "output_type": "display_data"
    }
   ],
   "source": [
    "# Agregasi data\n",
    "avg_height_by_obesity = df.groupby('NObeyesdad')['Weight'].mean().reset_index()\n",
    "\n",
    "# Plot line chart\n",
    "plt.figure(figsize=(10, 6))\n",
    "sns.lineplot(data=avg_height_by_obesity, x='NObeyesdad', y='Weight', marker='o', color='g')\n",
    "plt.title('Rata-rata Berat Badan Berdasarkan Kategori Obesitas')\n",
    "plt.xlabel('Kategori Obesitas')\n",
    "plt.ylabel('Rata-rata Berat Badan')\n",
    "plt.xticks(rotation=45, ha='right')\n",
    "plt.grid(True)\n",
    "plt.show()"
   ]
  },
  {
   "cell_type": "code",
   "execution_count": 83,
   "id": "af36306d",
   "metadata": {},
   "outputs": [
    {
     "name": "stderr",
     "output_type": "stream",
     "text": [
      "C:\\Users\\Komang Novelia Dwi A\\anaconda3\\Lib\\site-packages\\seaborn\\_oldcore.py:1119: FutureWarning: use_inf_as_na option is deprecated and will be removed in a future version. Convert inf values to NaN before operating instead.\n",
      "  with pd.option_context('mode.use_inf_as_na', True):\n",
      "C:\\Users\\Komang Novelia Dwi A\\anaconda3\\Lib\\site-packages\\seaborn\\_oldcore.py:1119: FutureWarning: use_inf_as_na option is deprecated and will be removed in a future version. Convert inf values to NaN before operating instead.\n",
      "  with pd.option_context('mode.use_inf_as_na', True):\n"
     ]
    },
    {
     "data": {
      "image/png": "[encoded data removed]",
      "text/plain": [
       "<Figure size 1000x600 with 1 Axes>"
      ]
     },
     "metadata": {},
     "output_type": "display_data"
    }
   ],
   "source": [
    "# Agregasi data\n",
    "avg_height_by_obesity = df.groupby('NObeyesdad')['Height'].mean().reset_index()\n",
    "\n",
    "# Plot line chart\n",
    "plt.figure(figsize=(10, 6))\n",
    "sns.lineplot(data=avg_height_by_obesity, x='NObeyesdad', y='Height', marker='o', color='blue')\n",
    "plt.title('Rata-rata Tinggi Badan Berdasarkan Kategori Obesitas')\n",
    "plt.xlabel('Kategori Obesitas')\n",
    "plt.ylabel('Rata-rata Tinggi Badan')\n",
    "plt.xticks(rotation=45, ha='right')\n",
    "plt.grid(True)\n",
    "plt.show()"
   ]
  },
  {
   "cell_type": "code",
   "execution_count": 84,
   "id": "0ee6be6b",
   "metadata": {},
   "outputs": [
    {
     "ename": "AttributeError",
     "evalue": "'numpy.int32' object has no attribute 'startswith'",
     "output_type": "error",
     "traceback": [
      "\u001b[1;31m---------------------------------------------------------------------------\u001b[0m",
      "\u001b[1;31mAttributeError\u001b[0m                            Traceback (most recent call last)",
      "Cell \u001b[1;32mIn[84], line 3\u001b[0m\n\u001b[0;32m      1\u001b[0m \u001b[38;5;66;03m# Plot countplot\u001b[39;00m\n\u001b[0;32m      2\u001b[0m plt\u001b[38;5;241m.\u001b[39mfigure(figsize\u001b[38;5;241m=\u001b[39m(\u001b[38;5;241m8\u001b[39m, \u001b[38;5;241m6\u001b[39m))\n\u001b[1;32m----> 3\u001b[0m sns\u001b[38;5;241m.\u001b[39mcountplot(data\u001b[38;5;241m=\u001b[39mdf, x\u001b[38;5;241m=\u001b[39m\u001b[38;5;124m'\u001b[39m\u001b[38;5;124mGender\u001b[39m\u001b[38;5;124m'\u001b[39m, hue\u001b[38;5;241m=\u001b[39m\u001b[38;5;124m'\u001b[39m\u001b[38;5;124mNObeyesdad\u001b[39m\u001b[38;5;124m'\u001b[39m, palette\u001b[38;5;241m=\u001b[39m\u001b[38;5;124m'\u001b[39m\u001b[38;5;124mSet2\u001b[39m\u001b[38;5;124m'\u001b[39m)\n\u001b[0;32m      4\u001b[0m plt\u001b[38;5;241m.\u001b[39mtitle(\u001b[38;5;124m'\u001b[39m\u001b[38;5;124mJumlah Obesitas berdasarkan Gender\u001b[39m\u001b[38;5;124m'\u001b[39m)\n\u001b[0;32m      5\u001b[0m plt\u001b[38;5;241m.\u001b[39mxlabel(\u001b[38;5;124m'\u001b[39m\u001b[38;5;124mGender\u001b[39m\u001b[38;5;124m'\u001b[39m)\n",
      "File \u001b[1;32m~\\anaconda3\\Lib\\site-packages\\seaborn\\categorical.py:2955\u001b[0m, in \u001b[0;36mcountplot\u001b[1;34m(data, x, y, hue, order, hue_order, orient, color, palette, saturation, width, dodge, ax, **kwargs)\u001b[0m\n\u001b[0;32m   2952\u001b[0m \u001b[38;5;28;01mif\u001b[39;00m ax \u001b[38;5;129;01mis\u001b[39;00m \u001b[38;5;28;01mNone\u001b[39;00m:\n\u001b[0;32m   2953\u001b[0m     ax \u001b[38;5;241m=\u001b[39m plt\u001b[38;5;241m.\u001b[39mgca()\n\u001b[1;32m-> 2955\u001b[0m plotter\u001b[38;5;241m.\u001b[39mplot(ax, kwargs)\n\u001b[0;32m   2956\u001b[0m \u001b[38;5;28;01mreturn\u001b[39;00m ax\n",
      "File \u001b[1;32m~\\anaconda3\\Lib\\site-packages\\seaborn\\categorical.py:1587\u001b[0m, in \u001b[0;36m_BarPlotter.plot\u001b[1;34m(self, ax, bar_kws)\u001b[0m\n\u001b[0;32m   1585\u001b[0m \u001b[38;5;250m\u001b[39m\u001b[38;5;124;03m\"\"\"Make the plot.\"\"\"\u001b[39;00m\n\u001b[0;32m   1586\u001b[0m \u001b[38;5;28mself\u001b[39m\u001b[38;5;241m.\u001b[39mdraw_bars(ax, bar_kws)\n\u001b[1;32m-> 1587\u001b[0m \u001b[38;5;28mself\u001b[39m\u001b[38;5;241m.\u001b[39mannotate_axes(ax)\n\u001b[0;32m   1588\u001b[0m \u001b[38;5;28;01mif\u001b[39;00m \u001b[38;5;28mself\u001b[39m\u001b[38;5;241m.\u001b[39morient \u001b[38;5;241m==\u001b[39m \u001b[38;5;124m\"\u001b[39m\u001b[38;5;124mh\u001b[39m\u001b[38;5;124m\"\u001b[39m:\n\u001b[0;32m   1589\u001b[0m     ax\u001b[38;5;241m.\u001b[39minvert_yaxis()\n",
      "File \u001b[1;32m~\\anaconda3\\Lib\\site-packages\\seaborn\\categorical.py:767\u001b[0m, in \u001b[0;36m_CategoricalPlotter.annotate_axes\u001b[1;34m(self, ax)\u001b[0m\n\u001b[0;32m    764\u001b[0m     ax\u001b[38;5;241m.\u001b[39mset_ylim(\u001b[38;5;241m-\u001b[39m\u001b[38;5;241m.5\u001b[39m, \u001b[38;5;28mlen\u001b[39m(\u001b[38;5;28mself\u001b[39m\u001b[38;5;241m.\u001b[39mplot_data) \u001b[38;5;241m-\u001b[39m \u001b[38;5;241m.5\u001b[39m, auto\u001b[38;5;241m=\u001b[39m\u001b[38;5;28;01mNone\u001b[39;00m)\n\u001b[0;32m    766\u001b[0m \u001b[38;5;28;01mif\u001b[39;00m \u001b[38;5;28mself\u001b[39m\u001b[38;5;241m.\u001b[39mhue_names \u001b[38;5;129;01mis\u001b[39;00m \u001b[38;5;129;01mnot\u001b[39;00m \u001b[38;5;28;01mNone\u001b[39;00m:\n\u001b[1;32m--> 767\u001b[0m     ax\u001b[38;5;241m.\u001b[39mlegend(loc\u001b[38;5;241m=\u001b[39m\u001b[38;5;124m\"\u001b[39m\u001b[38;5;124mbest\u001b[39m\u001b[38;5;124m\"\u001b[39m, title\u001b[38;5;241m=\u001b[39m\u001b[38;5;28mself\u001b[39m\u001b[38;5;241m.\u001b[39mhue_title)\n",
      "File \u001b[1;32m~\\anaconda3\\Lib\\site-packages\\matplotlib\\axes\\_axes.py:322\u001b[0m, in \u001b[0;36mAxes.legend\u001b[1;34m(self, *args, **kwargs)\u001b[0m\n\u001b[0;32m    204\u001b[0m \u001b[38;5;129m@_docstring\u001b[39m\u001b[38;5;241m.\u001b[39mdedent_interpd\n\u001b[0;32m    205\u001b[0m \u001b[38;5;28;01mdef\u001b[39;00m \u001b[38;5;21mlegend\u001b[39m(\u001b[38;5;28mself\u001b[39m, \u001b[38;5;241m*\u001b[39margs, \u001b[38;5;241m*\u001b[39m\u001b[38;5;241m*\u001b[39mkwargs):\n\u001b[0;32m    206\u001b[0m \u001b[38;5;250m    \u001b[39m\u001b[38;5;124;03m\"\"\"\u001b[39;00m\n\u001b[0;32m    207\u001b[0m \u001b[38;5;124;03m    Place a legend on the Axes.\u001b[39;00m\n\u001b[0;32m    208\u001b[0m \n\u001b[1;32m   (...)\u001b[0m\n\u001b[0;32m    320\u001b[0m \u001b[38;5;124;03m    .. plot:: gallery/text_labels_and_annotations/legend.py\u001b[39;00m\n\u001b[0;32m    321\u001b[0m \u001b[38;5;124;03m    \"\"\"\u001b[39;00m\n\u001b[1;32m--> 322\u001b[0m     handles, labels, kwargs \u001b[38;5;241m=\u001b[39m mlegend\u001b[38;5;241m.\u001b[39m_parse_legend_args([\u001b[38;5;28mself\u001b[39m], \u001b[38;5;241m*\u001b[39margs, \u001b[38;5;241m*\u001b[39m\u001b[38;5;241m*\u001b[39mkwargs)\n\u001b[0;32m    323\u001b[0m     \u001b[38;5;28mself\u001b[39m\u001b[38;5;241m.\u001b[39mlegend_ \u001b[38;5;241m=\u001b[39m mlegend\u001b[38;5;241m.\u001b[39mLegend(\u001b[38;5;28mself\u001b[39m, handles, labels, \u001b[38;5;241m*\u001b[39m\u001b[38;5;241m*\u001b[39mkwargs)\n\u001b[0;32m    324\u001b[0m     \u001b[38;5;28mself\u001b[39m\u001b[38;5;241m.\u001b[39mlegend_\u001b[38;5;241m.\u001b[39m_remove_method \u001b[38;5;241m=\u001b[39m \u001b[38;5;28mself\u001b[39m\u001b[38;5;241m.\u001b[39m_remove_legend\n",
      "File \u001b[1;32m~\\anaconda3\\Lib\\site-packages\\matplotlib\\legend.py:1361\u001b[0m, in \u001b[0;36m_parse_legend_args\u001b[1;34m(axs, handles, labels, *args, **kwargs)\u001b[0m\n\u001b[0;32m   1357\u001b[0m     handles \u001b[38;5;241m=\u001b[39m [handle \u001b[38;5;28;01mfor\u001b[39;00m handle, label\n\u001b[0;32m   1358\u001b[0m                \u001b[38;5;129;01min\u001b[39;00m \u001b[38;5;28mzip\u001b[39m(_get_legend_handles(axs, handlers), labels)]\n\u001b[0;32m   1360\u001b[0m \u001b[38;5;28;01melif\u001b[39;00m \u001b[38;5;28mlen\u001b[39m(args) \u001b[38;5;241m==\u001b[39m \u001b[38;5;241m0\u001b[39m:  \u001b[38;5;66;03m# 0 args: automatically detect labels and handles.\u001b[39;00m\n\u001b[1;32m-> 1361\u001b[0m     handles, labels \u001b[38;5;241m=\u001b[39m _get_legend_handles_labels(axs, handlers)\n\u001b[0;32m   1362\u001b[0m     \u001b[38;5;28;01mif\u001b[39;00m \u001b[38;5;129;01mnot\u001b[39;00m handles:\n\u001b[0;32m   1363\u001b[0m         log\u001b[38;5;241m.\u001b[39mwarning(\n\u001b[0;32m   1364\u001b[0m             \u001b[38;5;124m\"\u001b[39m\u001b[38;5;124mNo artists with labels found to put in legend.  Note that \u001b[39m\u001b[38;5;124m\"\u001b[39m\n\u001b[0;32m   1365\u001b[0m             \u001b[38;5;124m\"\u001b[39m\u001b[38;5;124martists whose label start with an underscore are ignored \u001b[39m\u001b[38;5;124m\"\u001b[39m\n\u001b[0;32m   1366\u001b[0m             \u001b[38;5;124m\"\u001b[39m\u001b[38;5;124mwhen legend() is called with no argument.\u001b[39m\u001b[38;5;124m\"\u001b[39m)\n",
      "File \u001b[1;32m~\\anaconda3\\Lib\\site-packages\\matplotlib\\legend.py:1291\u001b[0m, in \u001b[0;36m_get_legend_handles_labels\u001b[1;34m(axs, legend_handler_map)\u001b[0m\n\u001b[0;32m   1289\u001b[0m \u001b[38;5;28;01mfor\u001b[39;00m handle \u001b[38;5;129;01min\u001b[39;00m _get_legend_handles(axs, legend_handler_map):\n\u001b[0;32m   1290\u001b[0m     label \u001b[38;5;241m=\u001b[39m handle\u001b[38;5;241m.\u001b[39mget_label()\n\u001b[1;32m-> 1291\u001b[0m     \u001b[38;5;28;01mif\u001b[39;00m label \u001b[38;5;129;01mand\u001b[39;00m \u001b[38;5;129;01mnot\u001b[39;00m label\u001b[38;5;241m.\u001b[39mstartswith(\u001b[38;5;124m'\u001b[39m\u001b[38;5;124m_\u001b[39m\u001b[38;5;124m'\u001b[39m):\n\u001b[0;32m   1292\u001b[0m         handles\u001b[38;5;241m.\u001b[39mappend(handle)\n\u001b[0;32m   1293\u001b[0m         labels\u001b[38;5;241m.\u001b[39mappend(label)\n",
      "\u001b[1;31mAttributeError\u001b[0m: 'numpy.int32' object has no attribute 'startswith'"
     ]
    },
    {
     "data": {
      "image/png": "[encoded data removed]",
      "text/plain": [
       "<Figure size 800x600 with 1 Axes>"
      ]
     },
     "metadata": {},
     "output_type": "display_data"
    }
   ],
   "source": [
    "# Plot countplot\n",
    "plt.figure(figsize=(8, 6))\n",
    "sns.countplot(data=df, x='Gender', hue='NObeyesdad', palette='Set2')\n",
    "plt.title('Jumlah Obesitas berdasarkan Gender')\n",
    "plt.xlabel('Gender')\n",
    "plt.ylabel('Jumlah')\n",
    "plt.legend(title='Kategori Obesitas')\n",
    "plt.show()"
   ]
  },
  {
   "cell_type": "markdown",
   "id": "3d0d1488",
   "metadata": {},
   "source": [
    "### Check Imbalance"
   ]
  },
  {
   "cell_type": "code",
   "execution_count": null,
   "id": "c0696c5b",
   "metadata": {},
   "outputs": [],
   "source": [
    "df.NObeyesdad.value_counts()"
   ]
  },
  {
   "cell_type": "code",
   "execution_count": null,
   "id": "c7e4072e",
   "metadata": {},
   "outputs": [],
   "source": [
    "target = pd.DataFrame(df.NObeyesdad.value_counts())\n",
    "target"
   ]
  },
  {
   "cell_type": "code",
   "execution_count": null,
   "id": "5b7a24ed",
   "metadata": {},
   "outputs": [],
   "source": [
    "target.to_csv('Kolom_target.xlsx')"
   ]
  },
  {
   "cell_type": "code",
   "execution_count": null,
   "id": "c8bbd1df",
   "metadata": {},
   "outputs": [],
   "source": [
    "sns.countplot(x=df['NObeyesdad'])\n",
    "plt.xticks(rotation=45, ha='right') \n",
    "plt.show()"
   ]
  },
  {
   "cell_type": "code",
   "execution_count": null,
   "id": "5f9a8f14",
   "metadata": {},
   "outputs": [],
   "source": [
    "df"
   ]
  },
  {
   "cell_type": "code",
   "execution_count": null,
   "id": "f7287eaa",
   "metadata": {},
   "outputs": [],
   "source": [
    "df.info()"
   ]
  },
  {
   "cell_type": "markdown",
   "id": "1d35f222",
   "metadata": {},
   "source": [
    "# Scaling"
   ]
  },
  {
   "cell_type": "code",
   "execution_count": null,
   "id": "662f140b",
   "metadata": {},
   "outputs": [],
   "source": [
    "df.columns"
   ]
  },
  {
   "cell_type": "code",
   "execution_count": null,
   "id": "04bb9796",
   "metadata": {},
   "outputs": [],
   "source": [
    "columns = ['Age', 'Height', 'Weight', 'FCVC', 'NCP', 'CH2O', 'FAF', 'TUE', 'CAEC', 'MTRANS']\n",
    "scaler = StandardScaler()\n",
    "df_scale = scaler.fit_transform(df[columns])"
   ]
  },
  {
   "cell_type": "code",
   "execution_count": null,
   "id": "b7263bd8",
   "metadata": {},
   "outputs": [],
   "source": [
    "df[columns]=df_scale"
   ]
  },
  {
   "cell_type": "code",
   "execution_count": null,
   "id": "50a6d3d9",
   "metadata": {},
   "outputs": [],
   "source": [
    "df"
   ]
  },
  {
   "cell_type": "markdown",
   "id": "6562c658",
   "metadata": {},
   "source": [
    "# Splitting"
   ]
  },
  {
   "cell_type": "code",
   "execution_count": null,
   "id": "ec7c5938",
   "metadata": {},
   "outputs": [],
   "source": [
    "X = df.drop(columns='NObeyesdad')\n",
    "y = df.NObeyesdad\n",
    "\n",
    "X_model, X_test, y_model, y_test = train_test_split(X, y, test_size=0.1, random_state=42) # Data Model & data test\n",
    "X_train, X_val, y_train, y_val = train_test_split(X_model, y_model, test_size=0.2, random_state=42) # Data training & data val\n",
    "X_train.shape, X_val.shape, X_test.shape, y_train.shape, y_val.shape, y_test.shape"
   ]
  },
  {
   "cell_type": "code",
   "execution_count": null,
   "id": "9ba5caf0",
   "metadata": {},
   "outputs": [],
   "source": [
    "print(\"Jumlah data training:\", len(X_train))\n",
    "print(\"Jumlah data validasi:\", len(X_val))\n",
    "print(\"Jumlah data test:\", len(X_test))"
   ]
  },
  {
   "cell_type": "code",
   "execution_count": null,
   "id": "3add3f3b",
   "metadata": {},
   "outputs": [],
   "source": [
    "y_train"
   ]
  },
  {
   "cell_type": "code",
   "execution_count": null,
   "id": "9e96a697",
   "metadata": {},
   "outputs": [],
   "source": [
    "X_train"
   ]
  },
  {
   "cell_type": "markdown",
   "id": "fe2d3075",
   "metadata": {},
   "source": [
    "### Model"
   ]
  },
  {
   "cell_type": "code",
   "execution_count": null,
   "id": "dc721fb4",
   "metadata": {},
   "outputs": [],
   "source": [
    "# Memilih model terbaik untuk pengujian lebih lanjut\n",
    "model = LogisticRegression()\n",
    "model.fit(X_train, y_train)"
   ]
  },
  {
   "cell_type": "code",
   "execution_count": null,
   "id": "b0251c65",
   "metadata": {},
   "outputs": [],
   "source": [
    "y_pred = model.predict(X_test)\n",
    "y_pred"
   ]
  },
  {
   "cell_type": "markdown",
   "id": "87390b4c",
   "metadata": {},
   "source": [
    "## Evaluasi Model"
   ]
  },
  {
   "cell_type": "code",
   "execution_count": null,
   "id": "b8cc0fba",
   "metadata": {},
   "outputs": [],
   "source": [
    "# Evaluasi model terbaik\n",
    "print(\"Evaluation of the best model:\")\n",
    "print(\"Accuracy:\", accuracy_score(y_test, y_pred))"
   ]
  },
  {
   "cell_type": "code",
   "execution_count": null,
   "id": "dc1790d4",
   "metadata": {},
   "outputs": [],
   "source": [
    "print(\"Classification Report:\")\n",
    "print(classification_report(y_test, y_pred))"
   ]
  },
  {
   "cell_type": "code",
   "execution_count": null,
   "id": "1be933f6",
   "metadata": {},
   "outputs": [],
   "source": [
    "print(\"Confusion Matrix:\")\n",
    "cm = confusion_matrix(y_test, y_pred)\n",
    "cm"
   ]
  },
  {
   "cell_type": "code",
   "execution_count": null,
   "id": "fae94663",
   "metadata": {},
   "outputs": [],
   "source": [
    "fig = plt.figure(figsize = (10, 6))\n",
    "sns.heatmap(cm, annot = True, fmt = \"d\", cmap= 'YlGnBu')\n",
    "\n",
    "# Labeling the X-axis\n",
    "plt.xlabel(\"Predicted Class\")\n",
    "\n",
    "# Labeling the Y-axis\n",
    "plt.ylabel(\"True Class\")\n",
    "\n",
    "# Give a title to the graph\n",
    "plt.title(\"Confusion Matrix Model\")"
   ]
  },
  {
   "cell_type": "markdown",
   "id": "8f150237",
   "metadata": {},
   "source": [
    "# ANN "
   ]
  },
  {
   "cell_type": "markdown",
   "id": "4730b840",
   "metadata": {},
   "source": [
    "# Splitting"
   ]
  },
  {
   "cell_type": "code",
   "execution_count": null,
   "id": "c880b819",
   "metadata": {},
   "outputs": [],
   "source": [
    "X = df.drop(columns='NObeyesdad')\n",
    "y = df.NObeyesdad\n",
    "\n",
    "X_model, X_test, y_model, y_test = train_test_split(X, y, test_size=0.1, random_state=42) # Data Model & data test\n",
    "X_train, X_val, y_train, y_val = train_test_split(X_model, y_model, test_size=0.2, random_state=42) # Data training & data val\n",
    "X_train.shape, X_val.shape, X_test.shape, y_train.shape, y_val.shape, y_test.shape"
   ]
  },
  {
   "cell_type": "code",
   "execution_count": null,
   "id": "817b4476",
   "metadata": {},
   "outputs": [],
   "source": [
    "print(\"Jumlah data training:\", len(X_train))\n",
    "print(\"Jumlah data validasi:\", len(X_val))\n",
    "print(\"Jumlah data test:\", len(X_test))"
   ]
  },
  {
   "cell_type": "code",
   "execution_count": null,
   "id": "090bb95b",
   "metadata": {},
   "outputs": [],
   "source": [
    "y_train"
   ]
  },
  {
   "cell_type": "code",
   "execution_count": null,
   "id": "32511dce",
   "metadata": {},
   "outputs": [],
   "source": [
    "X_train"
   ]
  },
  {
   "cell_type": "markdown",
   "id": "0c509c1f",
   "metadata": {},
   "source": [
    "### Model"
   ]
  },
  {
   "cell_type": "code",
   "execution_count": null,
   "id": "31d95254",
   "metadata": {},
   "outputs": [],
   "source": [
    "X_train.shape"
   ]
  },
  {
   "cell_type": "code",
   "execution_count": null,
   "id": "43c89c1d",
   "metadata": {},
   "outputs": [],
   "source": [
    "X_train.shape[0]"
   ]
  },
  {
   "cell_type": "code",
   "execution_count": null,
   "id": "c614731b",
   "metadata": {},
   "outputs": [],
   "source": [
    "X_train.shape[1]"
   ]
  },
  {
   "cell_type": "markdown",
   "id": "b7a931e3",
   "metadata": {},
   "source": [
    "f(x) = max(0,x)\n",
    "\n",
    "jika input < 0 , maka f(x) = 0\n",
    "jika input > 0 , maka f(x) = x"
   ]
  },
  {
   "cell_type": "code",
   "execution_count": null,
   "id": "eca1f979",
   "metadata": {},
   "outputs": [],
   "source": [
    "from tensorflow.keras.optimizers import Adam\n",
    "model = Sequential()\n",
    "model.add(Dense(units= 32,activation='relu', input_shape=(X_train.shape[1],))) #input layer\n",
    "model.add(Dense(units = 32,activation='relu')) #hidden # sunction activation = relu (leaky relu, dll), sigmoid, tanh, softmax\n",
    "model.add(Dense(units = 32,activation='relu')) #hidden\n",
    "model.add(Dense(7, activation='softmax')) # gunakan softmax: output > 2,\n",
    "                                          # gunakan sigmoid: output = 2 \n",
    "model.compile(loss ='sparse_categorical_crossentropy',optimizer='Adam',metrics=['accuracy']) #  optimizer='adam', SGD, Adamax\n",
    "model.summary() # loss ='categorical_crossentropy', sparse_categorical_crossentropy, binary_crossentropy"
   ]
  },
  {
   "cell_type": "code",
   "execution_count": null,
   "id": "3a2d53f3",
   "metadata": {
    "scrolled": true
   },
   "outputs": [],
   "source": [
    "early_stopping = EarlyStopping(monitor='val_loss', patience=10, mode = 'min', restore_best_weights=True)\n",
    "\n",
    "\n",
    "history = model.fit(X_train, y_train, epochs=100, batch_size=32, validation_data=(X_val, y_val), callbacks=[early_stopping])"
   ]
  },
  {
   "cell_type": "markdown",
   "id": "53ab2d67",
   "metadata": {},
   "source": [
    "# Evaluate model"
   ]
  },
  {
   "cell_type": "code",
   "execution_count": null,
   "id": "b06f69e2",
   "metadata": {},
   "outputs": [],
   "source": [
    "evaluation = model.evaluate(X_test, y_test)"
   ]
  },
  {
   "cell_type": "markdown",
   "id": "58b6b358",
   "metadata": {
    "id": "uv6GO7zVOcs7"
   },
   "source": [
    "## **VISUALISASI**"
   ]
  },
  {
   "cell_type": "code",
   "execution_count": null,
   "id": "462ed9d6",
   "metadata": {},
   "outputs": [],
   "source": [
    "def plot_graphs(history, string):\n",
    "    plt.plot(history.history[string], color = 'red')\n",
    "    plt.plot(history.history['val_'+string], color = 'blue')\n",
    "    plt.xlabel('epoch')\n",
    "    plt.xlabel(string)\n",
    "    plt.legend([string, \"val_\"+string])\n",
    "    plt.grid()\n",
    "    plt.show()\n",
    "\n",
    "plot_graphs(history, 'accuracy')\n",
    "plot_graphs(history, 'loss')"
   ]
  },
  {
   "cell_type": "code",
   "execution_count": null,
   "id": "97049102",
   "metadata": {},
   "outputs": [],
   "source": [
    "y_pred = np.argmax(model.predict(X_test),axis=1)\n",
    "y_pred"
   ]
  },
  {
   "cell_type": "code",
   "execution_count": null,
   "id": "06851779",
   "metadata": {},
   "outputs": [],
   "source": [
    "y_test"
   ]
  },
  {
   "cell_type": "code",
   "execution_count": null,
   "id": "294a978d",
   "metadata": {},
   "outputs": [],
   "source": [
    "print(\"Evaluation model ann:\")\n",
    "print(\"Accuracy:\", accuracy_score(y_test, y_pred))"
   ]
  },
  {
   "cell_type": "code",
   "execution_count": null,
   "id": "ca241393",
   "metadata": {},
   "outputs": [],
   "source": [
    "print(\"Classification Report:\")\n",
    "print(classification_report(y_test, y_pred))"
   ]
  },
  {
   "cell_type": "code",
   "execution_count": null,
   "id": "9bce183a",
   "metadata": {},
   "outputs": [],
   "source": [
    "print(\"Confusion Matrix:\")\n",
    "cm = confusion_matrix(y_test, y_pred)\n",
    "cm"
   ]
  },
  {
   "cell_type": "code",
   "execution_count": null,
   "id": "43b667a4",
   "metadata": {},
   "outputs": [],
   "source": [
    "fig = plt.figure(figsize = (10, 6))\n",
    "sns.heatmap(cm, annot = True, fmt = \"d\", cmap= 'YlGnBu')\n",
    "\n",
    "# Labeling the X-axis\n",
    "plt.xlabel(\"Predicted Class\")\n",
    "\n",
    "# Labeling the Y-axis\n",
    "plt.ylabel(\"True Class\")\n",
    "\n",
    "# Give a title to the graph\n",
    "plt.title(\"Confusion Matrix Model\")"
   ]
  },
  {
   "cell_type": "code",
   "execution_count": null,
   "id": "08d50941",
   "metadata": {},
   "outputs": [],
   "source": []
  },
  {
   "cell_type": "code",
   "execution_count": null,
   "id": "3850936b",
   "metadata": {},
   "outputs": [],
   "source": []
  }
 ],
 "metadata": {
  "kernelspec": {
   "display_name": "Python 3 (ipykernel)",
   "language": "python",
   "name": "python3"
  },
  "language_info": {
   "codemirror_mode": {
    "name": "ipython",
    "version": 3
   },
   "file_extension": ".py",
   "mimetype": "text/x-python",
   "name": "python",
   "nbconvert_exporter": "python",
   "pygments_lexer": "ipython3",
   "version": "3.12.3"
  }
 },
 "nbformat": 4,
 "nbformat_minor": 5
}
